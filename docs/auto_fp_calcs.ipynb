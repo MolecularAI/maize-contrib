{
 "cells": [
  {
   "cell_type": "markdown",
   "id": "33c61bef",
   "metadata": {},
   "source": [
    "# Automated first-principles calculations "
   ]
  },
  {
   "cell_type": "markdown",
   "id": "612b1972",
   "metadata": {},
   "source": [
    "This is an example of how to use build a workflow with Maize that automates ab-initio calculations. Maize enables coupling of various external software in an efficient way, facilitating crucial procedures required for obtaining correct results. This example uses Gaussian, xTB and CREST to perform the desired calculations. \n",
    "\n",
    "In this workflow, we automated the calculation of relevant properties for reaction data. ReactionControl node will be used to read structured reaction data and generate relevant molecular species to submit to the various calculation software. These structures will undergo conformational sampling, geometry optimization and finally high-level single point calculations to obtain accurate energies for the desired species.\n",
    "\n",
    ".. caution:: This is an example workflow not meant for production use, none of the settings are optimised for scientific accuracy or efficiency. It is only meant to showcase Maize's complex workflow capabilities."
   ]
  },
  {
   "cell_type": "markdown",
   "id": "183f0c7b",
   "metadata": {},
   "source": [
    "## Imports"
   ]
  },
  {
   "cell_type": "markdown",
   "id": "559c6c72",
   "metadata": {},
   "source": [
    "We begin with all top-level requirements and imports, and ensure our software dependencies are setup correctly."
   ]
  },
  {
   "cell_type": "code",
   "execution_count": 1,
   "id": "f84285d3-93b8-49f1-8bdd-188ce1770917",
   "metadata": {
    "tags": []
   },
   "outputs": [],
   "source": [
    "import pandas as pd\n",
    "from pathlib import Path\n",
    "\n",
    "from maize.steps.mai.molecule.xtb import Xtb\n",
    "from maize.steps.mai.molecule.gaussian import Gaussian\n",
    "from maize.steps.mai.molecule.crest import Crest\n",
    "from maize.steps.mai.molecule.reaction_control import ReactionControl\n",
    "\n",
    "from maize.core.workflow import Workflow\n",
    "from maize.utilities.io import Config\n",
    "from maize.steps.io import LoadData,  Return\n",
    "\n",
    "from maize.utilities.chem.chem import IsomerCollection"
   ]
  },
  {
   "cell_type": "markdown",
   "id": "89b8f74b",
   "metadata": {},
   "source": [
    "We create an example of a reaction file format. ReactionControl node expect the following three parameters:\n",
    "- Libname: Name of the reaction library\n",
    "- rsmi_processed: reaction smiles for the reactant and products they should follow this syntax {reactant1_smiles}.{reactant2_smiles}>>{product_smiles}.\n",
    "- CorrectedReagentsSmiles: Dot-separated smiles of other reaction components {ligand}.{catalyst}.{solvent}."
   ]
  },
  {
   "cell_type": "code",
   "execution_count": 2,
   "id": "cf118022",
   "metadata": {},
   "outputs": [],
   "source": [
    "reaction = pd.DataFrame(data={'Libname': ['AFPCs'],\n",
    "                              'rsmi_processed': ['Cc1ccc2c(Br)ccc(NC(=O)c3ccc(OC(C)C)cc3)c2n1.BrC1CCCC1>>c1c(C2CCCC2)cccc1'],\n",
    "                              'CorrectedReagentsSmiles': ['CC(C)(C)c1ccnc(-c2cc(C(C)(C)C)ccn2)c1.(COCCOC.Cl[Ni]Cl).COCCO']})"
   ]
  },
  {
   "cell_type": "markdown",
   "id": "b142b580",
   "metadata": {},
   "source": [
    "## Workflow"
   ]
  },
  {
   "cell_type": "markdown",
   "id": "f8d89f3a",
   "metadata": {},
   "source": [
    "Like in other examples Maize will look for configurations of the specific softwares, in particular the locations of the software packages requested. These configuration should be contained in a TOML file. Note that you will need to set up the required software yourself. \n",
    "\n",
    "All first principle calculation nodes expect as parameter a destination folder (different from the maize working folders) where all the output files of the calculations will be stored. For practical reasons we define a scratch path that will contain both output folders and maize working directories. "
   ]
  },
  {
   "cell_type": "code",
   "execution_count": 3,
   "id": "c5b23a75",
   "metadata": {},
   "outputs": [
    {
     "name": "stderr",
     "output_type": "stream",
     "text": [
      "Could not find a config file ($XDG_CONFIG_HOME is not set)\n"
     ]
    }
   ],
   "source": [
    "scratch_path = Path(\"/path/to/your/directory\")\n",
    "flow = Workflow(name=\"afpcs\", level=\"info\", cleanup_temp=False)\n",
    "flow.config = Config()\n",
    "flow.config.update(Path(\"./afpcs-example-config.toml\"))\n",
    "flow.config.scratch = scratch_path"
   ]
  },
  {
   "cell_type": "markdown",
   "id": "f9447005",
   "metadata": {},
   "source": [
    "We create the required nodes in the workflow. The first should always be a `LoadData`, which in this case accepts a `pd.Series`. The node `ReactionControl` takes in the `pd.Series` and returns a `list['IsomerCollection']`. All the other nodes corresponding to ab-initio calculations use `list['IsomerCollection']` both as input and output. Finally here we specify two separate `Gaussian` nodes as one of them will be used to perform Molecular Mechanics calculations whereas the second for DFT."
   ]
  },
  {
   "cell_type": "code",
   "execution_count": 4,
   "id": "b9489d6f",
   "metadata": {},
   "outputs": [],
   "source": [
    "\n",
    "load = flow.add(LoadData[pd.Series])\n",
    "rc = flow.add(ReactionControl)\n",
    "uff = flow.add(Gaussian, name=\"uff\", loop=True)\n",
    "g16 = flow.add(Gaussian, name=\"g16\", loop=True)\n",
    "xtb = flow.add(Xtb, name =\"xtb\", loop=True)\n",
    "crest = flow.add(Crest, loop=True)\n",
    "ret = flow.add(Return[list[IsomerCollection]])\n"
   ]
  },
  {
   "cell_type": "markdown",
   "id": "c4be9123",
   "metadata": {},
   "source": [
    "Now we need to connect the nodes. `ReactionControl` receives data from LoadData and sends it to the MM `Gaussian` node for a quick geometry refinement. This sends it to `Crest` for conformer generation. The resulting `list['IsomerCollection']` are sent back to `ReactionControl` where errors will be checked and resubmitted if necessary. Otherwise, the information will be sent to `XTB` for geometry optimization and subsequently to the DFT `Gaussian` node for DFT single point energies. The `list['IsomerCollection']` are then sent back again to `ReactionControl` for error-checking and finally sent to the `Return` node."
   ]
  },
  {
   "cell_type": "code",
   "execution_count": 5,
   "id": "fa5c2f07",
   "metadata": {},
   "outputs": [],
   "source": [
    "flow.connect_all(\n",
    "    (load.out, rc.inp),\n",
    "    (rc.out_crest, uff.inp),\n",
    "    (uff.out, crest.inp),\n",
    "    (crest.out, rc.inp_crest),\n",
    "    (rc.out_xg16, xtb.inp),\n",
    "    (xtb.out, g16.inp),\n",
    "    (g16.out, rc.inp_xg16),\n",
    "    (rc.out, ret.inp)\n",
    " )\n"
   ]
  },
  {
   "cell_type": "markdown",
   "id": "69bb5874",
   "metadata": {},
   "source": [
    "## Parameters"
   ]
  },
  {
   "cell_type": "markdown",
   "id": "4a9addb6",
   "metadata": {},
   "source": [
    "We set up now required and optional parameters for each node. `ReactionControl` takes in reaction class type that will determine the type of reaction species to generate (please see documentation for available reaction types). `Gaussian` needs a `mode` parameter to be set to either \"_mm_\" for Molecular Mechanics or \"_dft_\" for Density Functional Theory calculations. Crest expects a `method` parameter to decide which type of conformational sampling run to be executed (Please refer to Crest official documentation for available options: https://crest-lab.github.io/crest-docs/). For dft calculations various options can be specified in `Gaussian` node, here `job_type` will define whether a single point or geometry optimization will be performed, `functional` and `basis_set` define respectively the functional and basis set to be used in the calculation, whereas `extra` will define additional gaussian route section options (please refer to Gaussian official documentation for available options: https://gaussian.com/). Finally as mentioned before, every instance of `Crest`, `Gaussian` and `XTB` expects a `fold` parameter to be set, which is a destination folder where to store the final output files of each individual calculation."
   ]
  },
  {
   "cell_type": "code",
   "execution_count": 6,
   "id": "ffae2cfa",
   "metadata": {},
   "outputs": [],
   "source": [
    "\n",
    "load.data.set(reaction.iloc[0])\n",
    "rc.reaction.set('NiCatCycle_CC')\n",
    "uff.mode.set('mm')\n",
    "uff.fold.set(scratch_path / 'uff_dir')\n",
    "crest.method.set('gfn2')\n",
    "crest.fold.set(scratch_path / 'crest_dir')\n",
    "xtb.fold.set(scratch_path / 'xtb_dir')\n",
    "g16.mode.set('dft')\n",
    "g16.job_type.set('sp')\n",
    "g16.functional.set('bp86')\n",
    "g16.basis_set.set('6-31+G*')\n",
    "g16.extra.set(['EmpiricalDispersion=GD3'])\n",
    "g16.fold.set(scratch_path /'g16_dir')\n"
   ]
  },
  {
   "cell_type": "markdown",
   "id": "180b8e8c",
   "metadata": {},
   "source": [
    "## Check"
   ]
  },
  {
   "cell_type": "markdown",
   "id": "b864ea51",
   "metadata": {},
   "source": [
    "If this method doesn't throw an exception, we have connected everything correctly and set all required parameters."
   ]
  },
  {
   "cell_type": "code",
   "execution_count": 7,
   "id": "ef347833",
   "metadata": {},
   "outputs": [],
   "source": [
    "flow.check()"
   ]
  },
  {
   "cell_type": "markdown",
   "id": "65cab663",
   "metadata": {},
   "source": [
    "## Topology"
   ]
  },
  {
   "cell_type": "markdown",
   "id": "203395a5",
   "metadata": {},
   "source": [
    "Let's visualize the workflow"
   ]
  },
  {
   "cell_type": "code",
   "execution_count": 8,
   "id": "bff12d2b",
   "metadata": {},
   "outputs": [
    {
     "data": {
      "image/svg+xml": [
       "<?xml version=\"1.0\" encoding=\"UTF-8\" standalone=\"no\"?>\n",
       "<!DOCTYPE svg PUBLIC \"-//W3C//DTD SVG 1.1//EN\"\n",
       " \"http://www.w3.org/Graphics/SVG/1.1/DTD/svg11.dtd\">\n",
       "<!-- Generated by graphviz version 11.0.0 (20240519.1550)\n",
       " -->\n",
       "<!-- Title: afpcs Pages: 1 -->\n",
       "<svg width=\"284pt\" height=\"260pt\"\n",
       " viewBox=\"0.00 0.00 284.00 260.00\" xmlns=\"http://www.w3.org/2000/svg\" xmlns:xlink=\"http://www.w3.org/1999/xlink\">\n",
       "<g id=\"graph0\" class=\"graph\" transform=\"scale(1 1) rotate(0) translate(4 256)\">\n",
       "<title>afpcs</title>\n",
       "<polygon fill=\"none\" stroke=\"none\" points=\"-4,4 -4,-256 280,-256 280,4 -4,4\"/>\n",
       "<!-- loaddata -->\n",
       "<g id=\"node1\" class=\"node\">\n",
       "<title>loaddata</title>\n",
       "<path fill=\"#666666\" fill-opacity=\"0.133333\" stroke=\"#830051\" stroke-width=\"2\" d=\"M161,-252C161,-252 115,-252 115,-252 109,-252 103,-246 103,-240 103,-240 103,-228 103,-228 103,-222 109,-216 115,-216 115,-216 161,-216 161,-216 167,-216 173,-222 173,-228 173,-228 173,-240 173,-240 173,-246 167,-252 161,-252\"/>\n",
       "<text text-anchor=\"middle\" x=\"138\" y=\"-230.3\" font-family=\"Consolas\" font-size=\"11.00\">loaddata</text>\n",
       "</g>\n",
       "<!-- reactioncontrol -->\n",
       "<g id=\"node2\" class=\"node\">\n",
       "<title>reactioncontrol</title>\n",
       "<path fill=\"#666666\" fill-opacity=\"0.133333\" stroke=\"#830051\" stroke-width=\"2\" d=\"M184.62,-180C184.62,-180 91.38,-180 91.38,-180 85.38,-180 79.38,-174 79.38,-168 79.38,-168 79.38,-156 79.38,-156 79.38,-150 85.38,-144 91.38,-144 91.38,-144 184.62,-144 184.62,-144 190.62,-144 196.62,-150 196.62,-156 196.62,-156 196.62,-168 196.62,-168 196.62,-174 190.62,-180 184.62,-180\"/>\n",
       "<text text-anchor=\"middle\" x=\"138\" y=\"-158.3\" font-family=\"Consolas\" font-size=\"11.00\">reactioncontrol</text>\n",
       "</g>\n",
       "<!-- loaddata&#45;&gt;reactioncontrol -->\n",
       "<g id=\"edge1\" class=\"edge\">\n",
       "<title>loaddata&#45;&gt;reactioncontrol</title>\n",
       "<path fill=\"none\" stroke=\"#3f4444\" stroke-width=\"2\" d=\"M138,-215.34C138,-208.75 138,-201.08 138,-193.67\"/>\n",
       "<polygon fill=\"#3f4444\" stroke=\"#3f4444\" stroke-width=\"2\" points=\"141.5,-193.93 138,-183.93 134.5,-193.93 141.5,-193.93\"/>\n",
       "</g>\n",
       "<!-- uff -->\n",
       "<g id=\"node3\" class=\"node\">\n",
       "<title>uff</title>\n",
       "<path fill=\"#666666\" fill-opacity=\"0.133333\" stroke=\"#830051\" stroke-width=\"2\" d=\"M42,-108C42,-108 12,-108 12,-108 6,-108 0,-102 0,-96 0,-96 0,-84 0,-84 0,-78 6,-72 12,-72 12,-72 42,-72 42,-72 48,-72 54,-78 54,-84 54,-84 54,-96 54,-96 54,-102 48,-108 42,-108\"/>\n",
       "<text text-anchor=\"middle\" x=\"27\" y=\"-86.3\" font-family=\"Consolas\" font-size=\"11.00\">uff</text>\n",
       "</g>\n",
       "<!-- reactioncontrol&#45;&gt;uff -->\n",
       "<g id=\"edge2\" class=\"edge\">\n",
       "<title>reactioncontrol&#45;&gt;uff</title>\n",
       "<path fill=\"none\" stroke=\"#3f4444\" stroke-width=\"2\" d=\"M109.7,-143.15C96.29,-134.7 80.07,-124.47 65.55,-115.31\"/>\n",
       "<polygon fill=\"#3f4444\" stroke=\"#3f4444\" stroke-width=\"2\" points=\"67.75,-112.56 57.42,-110.18 64.01,-118.48 67.75,-112.56\"/>\n",
       "</g>\n",
       "<!-- xtb -->\n",
       "<g id=\"node5\" class=\"node\">\n",
       "<title>xtb</title>\n",
       "<path fill=\"#666666\" fill-opacity=\"0.133333\" stroke=\"#830051\" stroke-width=\"2\" d=\"M264,-108C264,-108 234,-108 234,-108 228,-108 222,-102 222,-96 222,-96 222,-84 222,-84 222,-78 228,-72 234,-72 234,-72 264,-72 264,-72 270,-72 276,-78 276,-84 276,-84 276,-96 276,-96 276,-102 270,-108 264,-108\"/>\n",
       "<text text-anchor=\"middle\" x=\"249\" y=\"-86.3\" font-family=\"Consolas\" font-size=\"11.00\">xtb</text>\n",
       "</g>\n",
       "<!-- reactioncontrol&#45;&gt;xtb -->\n",
       "<g id=\"edge5\" class=\"edge\">\n",
       "<title>reactioncontrol&#45;&gt;xtb</title>\n",
       "<path fill=\"none\" stroke=\"#3f4444\" stroke-width=\"2\" d=\"M166.3,-143.15C179.71,-134.7 195.93,-124.47 210.45,-115.31\"/>\n",
       "<polygon fill=\"#3f4444\" stroke=\"#3f4444\" stroke-width=\"2\" points=\"211.99,-118.48 218.58,-110.18 208.25,-112.56 211.99,-118.48\"/>\n",
       "</g>\n",
       "<!-- return -->\n",
       "<g id=\"node7\" class=\"node\">\n",
       "<title>return</title>\n",
       "<path fill=\"#666666\" fill-opacity=\"0.133333\" stroke=\"#830051\" stroke-width=\"2\" d=\"M154.25,-108C154.25,-108 121.75,-108 121.75,-108 115.75,-108 109.75,-102 109.75,-96 109.75,-96 109.75,-84 109.75,-84 109.75,-78 115.75,-72 121.75,-72 121.75,-72 154.25,-72 154.25,-72 160.25,-72 166.25,-78 166.25,-84 166.25,-84 166.25,-96 166.25,-96 166.25,-102 160.25,-108 154.25,-108\"/>\n",
       "<text text-anchor=\"middle\" x=\"138\" y=\"-86.3\" font-family=\"Consolas\" font-size=\"11.00\">return</text>\n",
       "</g>\n",
       "<!-- reactioncontrol&#45;&gt;return -->\n",
       "<g id=\"edge8\" class=\"edge\">\n",
       "<title>reactioncontrol&#45;&gt;return</title>\n",
       "<path fill=\"none\" stroke=\"#3f4444\" stroke-width=\"2\" d=\"M138,-143.34C138,-136.75 138,-129.08 138,-121.67\"/>\n",
       "<polygon fill=\"#3f4444\" stroke=\"#3f4444\" stroke-width=\"2\" points=\"141.5,-121.93 138,-111.93 134.5,-121.93 141.5,-121.93\"/>\n",
       "</g>\n",
       "<!-- crest -->\n",
       "<g id=\"node6\" class=\"node\">\n",
       "<title>crest</title>\n",
       "<path fill=\"#666666\" fill-opacity=\"0.133333\" stroke=\"#830051\" stroke-width=\"2\" d=\"M69,-36C69,-36 39,-36 39,-36 33,-36 27,-30 27,-24 27,-24 27,-12 27,-12 27,-6 33,0 39,0 39,0 69,0 69,0 75,0 81,-6 81,-12 81,-12 81,-24 81,-24 81,-30 75,-36 69,-36\"/>\n",
       "<text text-anchor=\"middle\" x=\"54\" y=\"-14.3\" font-family=\"Consolas\" font-size=\"11.00\">crest</text>\n",
       "</g>\n",
       "<!-- uff&#45;&gt;crest -->\n",
       "<g id=\"edge3\" class=\"edge\">\n",
       "<title>uff&#45;&gt;crest</title>\n",
       "<path fill=\"none\" stroke=\"#3f4444\" stroke-width=\"2\" d=\"M33.81,-71.34C36.45,-64.51 39.54,-56.5 42.49,-48.83\"/>\n",
       "<polygon fill=\"#3f4444\" stroke=\"#3f4444\" stroke-width=\"2\" points=\"45.67,-50.32 46.01,-39.73 39.14,-47.8 45.67,-50.32\"/>\n",
       "</g>\n",
       "<!-- g16 -->\n",
       "<g id=\"node4\" class=\"node\">\n",
       "<title>g16</title>\n",
       "<path fill=\"#666666\" fill-opacity=\"0.133333\" stroke=\"#830051\" stroke-width=\"2\" d=\"M236,-36C236,-36 206,-36 206,-36 200,-36 194,-30 194,-24 194,-24 194,-12 194,-12 194,-6 200,0 206,0 206,0 236,0 236,0 242,0 248,-6 248,-12 248,-12 248,-24 248,-24 248,-30 242,-36 236,-36\"/>\n",
       "<text text-anchor=\"middle\" x=\"221\" y=\"-14.3\" font-family=\"Consolas\" font-size=\"11.00\">g16</text>\n",
       "</g>\n",
       "<!-- g16&#45;&gt;reactioncontrol -->\n",
       "<g id=\"edge7\" class=\"edge\">\n",
       "<title>g16&#45;&gt;reactioncontrol</title>\n",
       "<path fill=\"none\" stroke=\"#3f4444\" stroke-width=\"2\" d=\"M212.68,-36.77C203.94,-55.01 189.48,-84.03 175,-108 170.03,-116.23 164.25,-124.88 158.75,-132.76\"/>\n",
       "<polygon fill=\"#3f4444\" stroke=\"#3f4444\" stroke-width=\"2\" points=\"155.99,-130.6 153.04,-140.78 161.69,-134.66 155.99,-130.6\"/>\n",
       "</g>\n",
       "<!-- xtb&#45;&gt;g16 -->\n",
       "<g id=\"edge6\" class=\"edge\">\n",
       "<title>xtb&#45;&gt;g16</title>\n",
       "<path fill=\"none\" stroke=\"#3f4444\" stroke-width=\"2\" d=\"M241.93,-71.34C239.2,-64.51 236,-56.5 232.93,-48.83\"/>\n",
       "<polygon fill=\"#3f4444\" stroke=\"#3f4444\" stroke-width=\"2\" points=\"236.25,-47.7 229.28,-39.71 229.75,-50.3 236.25,-47.7\"/>\n",
       "</g>\n",
       "<!-- crest&#45;&gt;reactioncontrol -->\n",
       "<g id=\"edge4\" class=\"edge\">\n",
       "<title>crest&#45;&gt;reactioncontrol</title>\n",
       "<path fill=\"none\" stroke=\"#3f4444\" stroke-width=\"2\" d=\"M62.56,-36.75C71.54,-54.97 86.35,-83.98 101,-108 106,-116.2 111.8,-124.85 117.3,-132.73\"/>\n",
       "<polygon fill=\"#3f4444\" stroke=\"#3f4444\" stroke-width=\"2\" points=\"114.36,-134.63 123.01,-140.75 120.06,-130.57 114.36,-134.63\"/>\n",
       "</g>\n",
       "</g>\n",
       "</svg>\n"
      ],
      "text/plain": [
       "<graphviz.graphs.Digraph at 0x7f18ad091de0>"
      ]
     },
     "execution_count": 8,
     "metadata": {},
     "output_type": "execute_result"
    }
   ],
   "source": [
    "flow.visualize(max_level=0, labels=False)"
   ]
  },
  {
   "cell_type": "markdown",
   "id": "2e26db46",
   "metadata": {},
   "source": [
    "## Run"
   ]
  },
  {
   "cell_type": "markdown",
   "id": "4bdef895",
   "metadata": {},
   "source": [
    "Run the workflow, it will exit once all the calculations have completed.\n",
    "\n",
    "\n",
    ":: Disclaimer ::\n",
    "\n",
    "The workflow set-up here is meant to showcase the capabilities of Maize to set-up complex workflows. This current workflow is not designed to be executed on a jupyter-notebook, therefore performance and efficiency of the calculations generated here are not guaranteed. "
   ]
  },
  {
   "cell_type": "code",
   "execution_count": null,
   "id": "18f33752",
   "metadata": {},
   "outputs": [],
   "source": [
    "flow.execute()"
   ]
  }
 ],
 "metadata": {
  "kernelspec": {
   "display_name": "maize",
   "language": "python",
   "name": "python3"
  },
  "language_info": {
   "codemirror_mode": {
    "name": "ipython",
    "version": 3
   },
   "file_extension": ".py",
   "mimetype": "text/x-python",
   "name": "python",
   "nbconvert_exporter": "python",
   "pygments_lexer": "ipython3",
   "version": "3.10.14"
  }
 },
 "nbformat": 4,
 "nbformat_minor": 5
}

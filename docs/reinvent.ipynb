{
 "cells": [
  {
   "attachments": {},
   "cell_type": "markdown",
   "metadata": {},
   "source": [
    "# Docking with REINVENT\n",
    "\n",
    "This is an example of how to use REINVENT with Maize in a reinforcement learning workflow. This is a more advanced workflow, for the Maize basics see the plain docking workflows without REINVENT. The idea here is to use a dedicated node for REINVENT generating SMILES and receiving scores. The scores are generated through docking, with a subset of ligands sent to a high-precision docking node performing a more thorough search through poses."
   ]
  },
  {
   "attachments": {},
   "cell_type": "markdown",
   "metadata": {},
   "source": [
    ".. caution::\n",
    "   This is an example workflow not meant for production use, none of the settings are optimised for scientific accuracy or efficiency. It is only meant to showcase Maize's complex workflow capabilities."
   ]
  },
  {
   "attachments": {},
   "cell_type": "markdown",
   "metadata": {},
   "source": [
    "## Imports\n",
    "\n",
    "We begin with all top-level requirements and imports, and ensure our software dependencies are setup correctly."
   ]
  },
  {
   "cell_type": "code",
   "execution_count": 1,
   "metadata": {},
   "outputs": [],
   "source": [
    "from pathlib import Path\n",
    "\n",
    "from maize.core.workflow import Workflow\n",
    "from maize.steps.io import LoadData, LogResult, Return, Void\n",
    "from maize.steps.plumbing import MergeLists\n",
    "from maize.steps.mai.cheminformatics import RMSD, ExtractScores, TagIndex, SortByTag, TagSorter, LogTags\n",
    "from maize.steps.mai.docking.adv import AutoDockGPU\n",
    "from maize.steps.mai.molecule import Gypsum, LoadMolecule\n",
    "from maize.steps.mai.misc import ReInvent\n",
    "from maize.utilities.chem import IsomerCollection"
   ]
  },
  {
   "attachments": {},
   "cell_type": "markdown",
   "metadata": {},
   "source": [
    "## Workflow\n",
    "We use the same configuration as before, note that you will need to setup the required software yourself."
   ]
  },
  {
   "cell_type": "code",
   "execution_count": 2,
   "metadata": {},
   "outputs": [],
   "source": [
    "flow = Workflow(name=\"dock\", level=\"info\", cleanup_temp=False)\n",
    "flow.config.update(Path(\"docking-example-config.toml\"))"
   ]
  },
  {
   "attachments": {},
   "cell_type": "markdown",
   "metadata": {},
   "source": [
    "We begin by creating all the required nodes. The workflow will be circular, with the `ReInvent` node creating SMILES and accepting scores. Because our list of molecules will be split after the first docking and later re-merged, we need to keep track of the order of molecules. We do this by setting the index for each molecule as a tag (`TagIndex`), and later sorting the final list based on this tag (`SortByTag`). The RMSD, with which we determine if a molecule should be sent to a more accurate docking node, essentially acts as a scoring function. `TagSorter` can then decide where to send subsets of the molecules. Finally, the lists of molecules are merged (`MergeLists`) and sorted (`SortByTag`) to restore the original order given by Reinvent."
   ]
  },
  {
   "cell_type": "code",
   "execution_count": 3,
   "metadata": {},
   "outputs": [],
   "source": [
    "rnve = flow.add(ReInvent)\n",
    "embe = flow.add(Gypsum, loop=True)\n",
    "indx = flow.add(TagIndex, loop=True)\n",
    "dock = flow.add(AutoDockGPU, loop=True)\n",
    "void = flow.add(Void)\n",
    "load = flow.add(LoadMolecule)\n",
    "rmsd = flow.add(RMSD, loop=True)\n",
    "logt = flow.add(LogTags, loop=True)\n",
    "sort = flow.add(TagSorter, loop=True)\n",
    "dock_hp = flow.add(AutoDockGPU, name=\"dock-hp\", loop=True)\n",
    "void_hp = flow.add(Void, name=\"void-hp\", loop=True)\n",
    "merg = flow.add(MergeLists[IsomerCollection])\n",
    "sort_id = flow.add(SortByTag, loop=True)\n",
    "scor = flow.add(ExtractScores, loop=True)"
   ]
  },
  {
   "attachments": {},
   "cell_type": "markdown",
   "metadata": {},
   "source": [
    "Three separate calls to `flow.connect_all()` are required to get static typing on inputs and outputs. If you don't care about this you can just make a single call. This is an unfortunate limitation of the python typing system and may be resolved in the future."
   ]
  },
  {
   "cell_type": "code",
   "execution_count": 4,
   "metadata": {},
   "outputs": [],
   "source": [
    "flow.connect_all(\n",
    "    (rnve.out, embe.inp),\n",
    "    (embe.out, indx.inp),\n",
    "    (indx.out, dock.inp),\n",
    "    (dock.out_scores, void.inp),\n",
    "    (dock.out, rmsd.inp),\n",
    "    (load.out, rmsd.inp_ref),\n",
    ")\n",
    "flow.connect_all(\n",
    "    (rmsd.out, logt.inp),\n",
    "    (logt.out, sort.inp),\n",
    "    (sort.out, merg.inp),\n",
    "    (sort.out, dock_hp.inp),\n",
    "    (dock_hp.out_scores, void_hp.inp),\n",
    "    (dock_hp.out, merg.inp),\n",
    ")\n",
    "flow.connect_all(\n",
    "    (merg.out, sort_id.inp),\n",
    "    (sort_id.out, scor.inp),\n",
    "    (scor.out, rnve.inp),\n",
    ")"
   ]
  },
  {
   "attachments": {},
   "cell_type": "markdown",
   "metadata": {},
   "source": [
    "### Parameters\n",
    "Parameters required for this workflow are the Reinvent configuration, the docking grid, and the reference pose."
   ]
  },
  {
   "cell_type": "code",
   "execution_count": 5,
   "metadata": {},
   "outputs": [],
   "source": [
    "grid = Path(\"../maize/steps/mai/docking/data/1uyd.tar\")\n",
    "ref = Path(\"../maize/steps/mai/docking/data/1UYD_ligand.sdf\")\n",
    "rnv_config = Path(\"../maize/steps/mai/misc/data/input-intercept.toml\")\n",
    "prior = Path(\"../maize/steps/mai/misc/data/reinvent.prior\")"
   ]
  },
  {
   "cell_type": "code",
   "execution_count": 6,
   "metadata": {},
   "outputs": [],
   "source": [
    "# The REINVENT configuration, excluding any entries for maize (these will be added automatically)\n",
    "rnve.configuration.set(rnv_config)\n",
    "rnve.prior.set(prior)\n",
    "rnve.agent.set(prior)\n",
    "\n",
    "# The maximum number of RL epochs\n",
    "rnve.max_epoch.set(10)\n",
    "\n",
    "# Settings to transform the docking score to a value between 0 and 1, with 1 being favourable, using a sigmoid\n",
    "rnve.low.set(-10.0)\n",
    "rnve.high.set(-5.0)\n",
    "rnve.reverse.set(True)\n",
    "\n",
    "# Number of molecules to generate each epoch\n",
    "rnve.batch_size.set(32)\n",
    "\n",
    "# Number of isomers to generate for each SMILES\n",
    "embe.n_variants.set(4)\n",
    "\n",
    "# Docking grid for 1UYD\n",
    "dock.inp_grid.set(grid)\n",
    "dock_hp.inp_grid.set(grid)\n",
    "\n",
    "# Reference ligand for RMSD calculation\n",
    "load.path.set(ref)\n",
    "\n",
    "# Log the \"rmsd\" tag\n",
    "logt.tag.set(\"rmsd\")\n",
    "\n",
    "# Send molecules with RMSD higher than 6 Ang to high-precision docking\n",
    "sort.sorter.set([\"rmsd < 6.0\", \"rmsd >= 6.0\"])\n",
    "\n",
    "# More extensive search settings for \"high-precision\" docking\n",
    "dock_hp.nrun.set(50)\n",
    "dock_hp.population_size.set(300)\n",
    "dock_hp.lsit.set(500)\n",
    "\n",
    "# Deactivate constraints from the grid\n",
    "dock.constraints.set(False)\n",
    "dock_hp.constraints.set(False)"
   ]
  },
  {
   "attachments": {},
   "cell_type": "markdown",
   "metadata": {},
   "source": [
    "### Check\n",
    "If this method doesn't throw an exception, we have connected everything correctly and set all required parameters."
   ]
  },
  {
   "cell_type": "code",
   "execution_count": 7,
   "metadata": {},
   "outputs": [],
   "source": [
    "flow.check()"
   ]
  },
  {
   "attachments": {},
   "cell_type": "markdown",
   "metadata": {},
   "source": [
    "### Topology\n",
    "We can visualize our workflow by simply showing the workflow object representation (or using `flow.visualize()` outside of notebooks)."
   ]
  },
  {
   "cell_type": "code",
   "execution_count": 8,
   "metadata": {},
   "outputs": [
    {
     "data": {
      "image/svg+xml": "<?xml version=\"1.0\" encoding=\"UTF-8\" standalone=\"no\"?>\n<!DOCTYPE svg PUBLIC \"-//W3C//DTD SVG 1.1//EN\"\n \"http://www.w3.org/Graphics/SVG/1.1/DTD/svg11.dtd\">\n<!-- Generated by graphviz version 9.0.0 (20231118.0032)\n -->\n<!-- Title: dock Pages: 1 -->\n<svg width=\"458pt\" height=\"877pt\"\n viewBox=\"0.00 0.00 458.38 876.50\" xmlns=\"http://www.w3.org/2000/svg\" xmlns:xlink=\"http://www.w3.org/1999/xlink\">\n<g id=\"graph0\" class=\"graph\" transform=\"scale(1 1) rotate(0) translate(4 872.5)\">\n<title>dock</title>\n<polygon fill=\"none\" stroke=\"none\" points=\"-4,4 -4,-872.5 454.38,-872.5 454.38,4 -4,4\"/>\n<!-- reinvent -->\n<g id=\"node1\" class=\"node\">\n<title>reinvent</title>\n<path fill=\"#666666\" fill-opacity=\"0.133333\" stroke=\"#830051\" stroke-width=\"2\" d=\"M74.88,-868.5C74.88,-868.5 28.88,-868.5 28.88,-868.5 22.88,-868.5 16.88,-862.5 16.88,-856.5 16.88,-856.5 16.88,-844.5 16.88,-844.5 16.88,-838.5 22.88,-832.5 28.88,-832.5 28.88,-832.5 74.88,-832.5 74.88,-832.5 80.88,-832.5 86.88,-838.5 86.88,-844.5 86.88,-844.5 86.88,-856.5 86.88,-856.5 86.88,-862.5 80.88,-868.5 74.88,-868.5\"/>\n<text text-anchor=\"middle\" x=\"51.88\" y=\"-846.8\" font-family=\"Consolas\" font-size=\"11.00\">reinvent</text>\n</g>\n<!-- gypsum -->\n<g id=\"node2\" class=\"node\">\n<title>gypsum</title>\n<path fill=\"#666666\" fill-opacity=\"0.133333\" stroke=\"#830051\" stroke-width=\"2\" d=\"M114.12,-785.25C114.12,-785.25 81.62,-785.25 81.62,-785.25 75.62,-785.25 69.62,-779.25 69.62,-773.25 69.62,-773.25 69.62,-761.25 69.62,-761.25 69.62,-755.25 75.62,-749.25 81.62,-749.25 81.62,-749.25 114.12,-749.25 114.12,-749.25 120.12,-749.25 126.12,-755.25 126.12,-761.25 126.12,-761.25 126.12,-773.25 126.12,-773.25 126.12,-779.25 120.12,-785.25 114.12,-785.25\"/>\n<text text-anchor=\"middle\" x=\"97.88\" y=\"-763.55\" font-family=\"Consolas\" font-size=\"11.00\">gypsum</text>\n</g>\n<!-- reinvent&#45;&gt;gypsum -->\n<g id=\"edge1\" class=\"edge\">\n<title>reinvent&#45;&gt;gypsum</title>\n<path fill=\"none\" stroke=\"#3f4444\" stroke-width=\"2\" d=\"M61.86,-831.87C67.6,-821.72 74.97,-808.71 81.54,-797.11\"/>\n<polygon fill=\"#3f4444\" stroke=\"#3f4444\" stroke-width=\"2\" points=\"84.38,-799.19 86.26,-788.76 78.29,-795.74 84.38,-799.19\"/>\n<text text-anchor=\"middle\" x=\"101.5\" y=\"-805.95\" font-family=\"Consolas\" font-size=\"9.00\">list[str]</text>\n</g>\n<!-- tagindex -->\n<g id=\"node3\" class=\"node\">\n<title>tagindex</title>\n<path fill=\"#666666\" fill-opacity=\"0.133333\" stroke=\"#830051\" stroke-width=\"2\" d=\"M126.88,-702C126.88,-702 80.88,-702 80.88,-702 74.88,-702 68.88,-696 68.88,-690 68.88,-690 68.88,-678 68.88,-678 68.88,-672 74.88,-666 80.88,-666 80.88,-666 126.88,-666 126.88,-666 132.88,-666 138.88,-672 138.88,-678 138.88,-678 138.88,-690 138.88,-690 138.88,-696 132.88,-702 126.88,-702\"/>\n<text text-anchor=\"middle\" x=\"103.88\" y=\"-680.3\" font-family=\"Consolas\" font-size=\"11.00\">tagindex</text>\n</g>\n<!-- gypsum&#45;&gt;tagindex -->\n<g id=\"edge2\" class=\"edge\">\n<title>gypsum&#45;&gt;tagindex</title>\n<path fill=\"none\" stroke=\"#3f4444\" stroke-width=\"2\" d=\"M99.18,-748.62C99.89,-739 100.79,-726.81 101.61,-715.68\"/>\n<polygon fill=\"#3f4444\" stroke=\"#3f4444\" stroke-width=\"2\" points=\"105.09,-716.13 102.33,-705.9 98.1,-715.61 105.09,-716.13\"/>\n<text text-anchor=\"middle\" x=\"159.62\" y=\"-722.7\" font-family=\"Consolas\" font-size=\"9.00\">list[IsomerCollection]</text>\n</g>\n<!-- autodockgpu -->\n<g id=\"node4\" class=\"node\">\n<title>autodockgpu</title>\n<path fill=\"#666666\" fill-opacity=\"0.133333\" stroke=\"#830051\" stroke-width=\"2\" d=\"M142,-618.75C142,-618.75 75.75,-618.75 75.75,-618.75 69.75,-618.75 63.75,-612.75 63.75,-606.75 63.75,-606.75 63.75,-594.75 63.75,-594.75 63.75,-588.75 69.75,-582.75 75.75,-582.75 75.75,-582.75 142,-582.75 142,-582.75 148,-582.75 154,-588.75 154,-594.75 154,-594.75 154,-606.75 154,-606.75 154,-612.75 148,-618.75 142,-618.75\"/>\n<text text-anchor=\"middle\" x=\"108.88\" y=\"-597.05\" font-family=\"Consolas\" font-size=\"11.00\">autodockgpu</text>\n</g>\n<!-- tagindex&#45;&gt;autodockgpu -->\n<g id=\"edge3\" class=\"edge\">\n<title>tagindex&#45;&gt;autodockgpu</title>\n<path fill=\"none\" stroke=\"#3f4444\" stroke-width=\"2\" d=\"M104.96,-665.37C105.55,-655.75 106.3,-643.56 106.99,-632.43\"/>\n<polygon fill=\"#3f4444\" stroke=\"#3f4444\" stroke-width=\"2\" points=\"110.47,-632.84 107.59,-622.65 103.48,-632.41 110.47,-632.84\"/>\n<text text-anchor=\"middle\" x=\"164.62\" y=\"-639.45\" font-family=\"Consolas\" font-size=\"9.00\">list[IsomerCollection]</text>\n</g>\n<!-- void -->\n<g id=\"node5\" class=\"node\">\n<title>void</title>\n<path fill=\"#666666\" fill-opacity=\"0.133333\" stroke=\"#830051\" stroke-width=\"2\" d=\"M107.88,-535.5C107.88,-535.5 77.88,-535.5 77.88,-535.5 71.88,-535.5 65.88,-529.5 65.88,-523.5 65.88,-523.5 65.88,-511.5 65.88,-511.5 65.88,-505.5 71.88,-499.5 77.88,-499.5 77.88,-499.5 107.88,-499.5 107.88,-499.5 113.88,-499.5 119.88,-505.5 119.88,-511.5 119.88,-511.5 119.88,-523.5 119.88,-523.5 119.88,-529.5 113.88,-535.5 107.88,-535.5\"/>\n<text text-anchor=\"middle\" x=\"92.88\" y=\"-513.8\" font-family=\"Consolas\" font-size=\"11.00\">void</text>\n</g>\n<!-- autodockgpu&#45;&gt;void -->\n<g id=\"edge4\" class=\"edge\">\n<title>autodockgpu&#45;&gt;void</title>\n<path fill=\"none\" stroke=\"#3f4444\" stroke-width=\"2\" d=\"M99.72,-582.02C97.36,-576.62 95.13,-570.57 93.88,-564.75 92.78,-559.68 92.17,-554.23 91.88,-548.91\"/>\n<polygon fill=\"#3f4444\" stroke=\"#3f4444\" stroke-width=\"2\" points=\"95.38,-549.23 91.73,-539.28 88.38,-549.33 95.38,-549.23\"/>\n<text text-anchor=\"middle\" x=\"167.38\" y=\"-556.2\" font-family=\"Consolas\" font-size=\"9.00\">ndarray[Any, dtype[float32]]</text>\n<text text-anchor=\"middle\" x=\"83.97\" y=\"-573.47\" font-family=\"Consolas\" font-size=\"9.00\">scores</text>\n</g>\n<!-- rmsd -->\n<g id=\"node7\" class=\"node\">\n<title>rmsd</title>\n<path fill=\"#666666\" fill-opacity=\"0.133333\" stroke=\"#830051\" stroke-width=\"2\" d=\"M278.88,-535.5C278.88,-535.5 248.88,-535.5 248.88,-535.5 242.88,-535.5 236.88,-529.5 236.88,-523.5 236.88,-523.5 236.88,-511.5 236.88,-511.5 236.88,-505.5 242.88,-499.5 248.88,-499.5 248.88,-499.5 278.88,-499.5 278.88,-499.5 284.88,-499.5 290.88,-505.5 290.88,-511.5 290.88,-511.5 290.88,-523.5 290.88,-523.5 290.88,-529.5 284.88,-535.5 278.88,-535.5\"/>\n<text text-anchor=\"middle\" x=\"263.88\" y=\"-513.8\" font-family=\"Consolas\" font-size=\"11.00\">rmsd</text>\n</g>\n<!-- autodockgpu&#45;&gt;rmsd -->\n<g id=\"edge5\" class=\"edge\">\n<title>autodockgpu&#45;&gt;rmsd</title>\n<path fill=\"none\" stroke=\"#3f4444\" stroke-width=\"2\" d=\"M154.71,-596.99C182.29,-593.22 216.62,-584.53 240.88,-564.75 246.3,-560.33 250.55,-554.31 253.84,-548.07\"/>\n<polygon fill=\"#3f4444\" stroke=\"#3f4444\" stroke-width=\"2\" points=\"257.03,-549.52 257.83,-538.96 250.62,-546.71 257.03,-549.52\"/>\n<text text-anchor=\"middle\" x=\"308.62\" y=\"-556.2\" font-family=\"Consolas\" font-size=\"9.00\">list[IsomerCollection]</text>\n</g>\n<!-- loadmolecule -->\n<g id=\"node6\" class=\"node\">\n<title>loadmolecule</title>\n<path fill=\"#666666\" fill-opacity=\"0.133333\" stroke=\"#830051\" stroke-width=\"2\" d=\"M438.38,-618.75C438.38,-618.75 365.38,-618.75 365.38,-618.75 359.38,-618.75 353.38,-612.75 353.38,-606.75 353.38,-606.75 353.38,-594.75 353.38,-594.75 353.38,-588.75 359.38,-582.75 365.38,-582.75 365.38,-582.75 438.38,-582.75 438.38,-582.75 444.38,-582.75 450.38,-588.75 450.38,-594.75 450.38,-594.75 450.38,-606.75 450.38,-606.75 450.38,-612.75 444.38,-618.75 438.38,-618.75\"/>\n<text text-anchor=\"middle\" x=\"401.88\" y=\"-597.05\" font-family=\"Consolas\" font-size=\"11.00\">loadmolecule</text>\n</g>\n<!-- loadmolecule&#45;&gt;rmsd -->\n<g id=\"edge6\" class=\"edge\">\n<title>loadmolecule&#45;&gt;rmsd</title>\n<path fill=\"none\" stroke=\"#3f4444\" stroke-width=\"2\" d=\"M397.35,-582.19C394.01,-572.48 388.51,-560.92 379.88,-553.5 358.88,-535.45 328.8,-526.71 304.54,-522.48\"/>\n<polygon fill=\"#3f4444\" stroke=\"#3f4444\" stroke-width=\"2\" points=\"305.16,-519.03 294.75,-521.01 304.12,-525.95 305.16,-519.03\"/>\n<text text-anchor=\"middle\" x=\"403.62\" y=\"-556.2\" font-family=\"Consolas\" font-size=\"9.00\">Isomer</text>\n<text text-anchor=\"middle\" x=\"299.63\" y=\"-523.26\" font-family=\"Consolas\" font-size=\"9.00\">ref</text>\n</g>\n<!-- logtags -->\n<g id=\"node8\" class=\"node\">\n<title>logtags</title>\n<path fill=\"#666666\" fill-opacity=\"0.133333\" stroke=\"#830051\" stroke-width=\"2\" d=\"M283.5,-452.25C283.5,-452.25 244.25,-452.25 244.25,-452.25 238.25,-452.25 232.25,-446.25 232.25,-440.25 232.25,-440.25 232.25,-428.25 232.25,-428.25 232.25,-422.25 238.25,-416.25 244.25,-416.25 244.25,-416.25 283.5,-416.25 283.5,-416.25 289.5,-416.25 295.5,-422.25 295.5,-428.25 295.5,-428.25 295.5,-440.25 295.5,-440.25 295.5,-446.25 289.5,-452.25 283.5,-452.25\"/>\n<text text-anchor=\"middle\" x=\"263.88\" y=\"-430.55\" font-family=\"Consolas\" font-size=\"11.00\">logtags</text>\n</g>\n<!-- rmsd&#45;&gt;logtags -->\n<g id=\"edge7\" class=\"edge\">\n<title>rmsd&#45;&gt;logtags</title>\n<path fill=\"none\" stroke=\"#3f4444\" stroke-width=\"2\" d=\"M263.88,-498.87C263.88,-489.25 263.88,-477.06 263.88,-465.93\"/>\n<polygon fill=\"#3f4444\" stroke=\"#3f4444\" stroke-width=\"2\" points=\"267.38,-466.15 263.88,-456.15 260.38,-466.15 267.38,-466.15\"/>\n<text text-anchor=\"middle\" x=\"321.62\" y=\"-472.95\" font-family=\"Consolas\" font-size=\"9.00\">list[IsomerCollection]</text>\n</g>\n<!-- tagsorter -->\n<g id=\"node9\" class=\"node\">\n<title>tagsorter</title>\n<path fill=\"#666666\" fill-opacity=\"0.133333\" stroke=\"#830051\" stroke-width=\"2\" d=\"M290.25,-369C290.25,-369 237.5,-369 237.5,-369 231.5,-369 225.5,-363 225.5,-357 225.5,-357 225.5,-345 225.5,-345 225.5,-339 231.5,-333 237.5,-333 237.5,-333 290.25,-333 290.25,-333 296.25,-333 302.25,-339 302.25,-345 302.25,-345 302.25,-357 302.25,-357 302.25,-363 296.25,-369 290.25,-369\"/>\n<text text-anchor=\"middle\" x=\"263.88\" y=\"-347.3\" font-family=\"Consolas\" font-size=\"11.00\">tagsorter</text>\n</g>\n<!-- logtags&#45;&gt;tagsorter -->\n<g id=\"edge8\" class=\"edge\">\n<title>logtags&#45;&gt;tagsorter</title>\n<path fill=\"none\" stroke=\"#3f4444\" stroke-width=\"2\" d=\"M263.88,-415.62C263.88,-406 263.88,-393.81 263.88,-382.68\"/>\n<polygon fill=\"#3f4444\" stroke=\"#3f4444\" stroke-width=\"2\" points=\"267.38,-382.9 263.88,-372.9 260.38,-382.9 267.38,-382.9\"/>\n<text text-anchor=\"middle\" x=\"321.62\" y=\"-389.7\" font-family=\"Consolas\" font-size=\"9.00\">list[IsomerCollection]</text>\n</g>\n<!-- dock&#45;hp -->\n<g id=\"node10\" class=\"node\">\n<title>dock&#45;hp</title>\n<path fill=\"#666666\" fill-opacity=\"0.133333\" stroke=\"#830051\" stroke-width=\"2\" d=\"M289.5,-285.75C289.5,-285.75 250.25,-285.75 250.25,-285.75 244.25,-285.75 238.25,-279.75 238.25,-273.75 238.25,-273.75 238.25,-261.75 238.25,-261.75 238.25,-255.75 244.25,-249.75 250.25,-249.75 250.25,-249.75 289.5,-249.75 289.5,-249.75 295.5,-249.75 301.5,-255.75 301.5,-261.75 301.5,-261.75 301.5,-273.75 301.5,-273.75 301.5,-279.75 295.5,-285.75 289.5,-285.75\"/>\n<text text-anchor=\"middle\" x=\"269.88\" y=\"-264.05\" font-family=\"Consolas\" font-size=\"11.00\">dock&#45;hp</text>\n</g>\n<!-- tagsorter&#45;&gt;dock&#45;hp -->\n<g id=\"edge10\" class=\"edge\">\n<title>tagsorter&#45;&gt;dock&#45;hp</title>\n<path fill=\"none\" stroke=\"#3f4444\" stroke-width=\"2\" d=\"M265.18,-332.37C265.89,-322.75 266.79,-310.56 267.61,-299.43\"/>\n<polygon fill=\"#3f4444\" stroke=\"#3f4444\" stroke-width=\"2\" points=\"271.09,-299.88 268.33,-289.65 264.1,-299.36 271.09,-299.88\"/>\n<text text-anchor=\"middle\" x=\"325.62\" y=\"-306.45\" font-family=\"Consolas\" font-size=\"9.00\">list[IsomerCollection]</text>\n</g>\n<!-- mergelists -->\n<g id=\"node12\" class=\"node\">\n<title>mergelists</title>\n<path fill=\"#666666\" fill-opacity=\"0.133333\" stroke=\"#830051\" stroke-width=\"2\" d=\"M135.62,-202.5C135.62,-202.5 76.12,-202.5 76.12,-202.5 70.12,-202.5 64.12,-196.5 64.12,-190.5 64.12,-190.5 64.12,-178.5 64.12,-178.5 64.12,-172.5 70.12,-166.5 76.12,-166.5 76.12,-166.5 135.62,-166.5 135.62,-166.5 141.62,-166.5 147.62,-172.5 147.62,-178.5 147.62,-178.5 147.62,-190.5 147.62,-190.5 147.62,-196.5 141.62,-202.5 135.62,-202.5\"/>\n<text text-anchor=\"middle\" x=\"105.88\" y=\"-180.8\" font-family=\"Consolas\" font-size=\"11.00\">mergelists</text>\n</g>\n<!-- tagsorter&#45;&gt;mergelists -->\n<g id=\"edge9\" class=\"edge\">\n<title>tagsorter&#45;&gt;mergelists</title>\n<path fill=\"none\" stroke=\"#3f4444\" stroke-width=\"2\" d=\"M224.73,-344.75C189.41,-337.77 139.16,-321.8 113.38,-285.75 99.06,-265.74 98.24,-237.38 100.38,-215.93\"/>\n<polygon fill=\"#3f4444\" stroke=\"#3f4444\" stroke-width=\"2\" points=\"103.82,-216.66 101.66,-206.29 96.88,-215.74 103.82,-216.66\"/>\n<text text-anchor=\"middle\" x=\"171.62\" y=\"-264.82\" font-family=\"Consolas\" font-size=\"9.00\">list[IsomerCollection]</text>\n</g>\n<!-- void&#45;hp -->\n<g id=\"node11\" class=\"node\">\n<title>void&#45;hp</title>\n<path fill=\"#666666\" fill-opacity=\"0.133333\" stroke=\"#830051\" stroke-width=\"2\" d=\"M296.5,-202.5C296.5,-202.5 257.25,-202.5 257.25,-202.5 251.25,-202.5 245.25,-196.5 245.25,-190.5 245.25,-190.5 245.25,-178.5 245.25,-178.5 245.25,-172.5 251.25,-166.5 257.25,-166.5 257.25,-166.5 296.5,-166.5 296.5,-166.5 302.5,-166.5 308.5,-172.5 308.5,-178.5 308.5,-178.5 308.5,-190.5 308.5,-190.5 308.5,-196.5 302.5,-202.5 296.5,-202.5\"/>\n<text text-anchor=\"middle\" x=\"276.88\" y=\"-180.8\" font-family=\"Consolas\" font-size=\"11.00\">void&#45;hp</text>\n</g>\n<!-- dock&#45;hp&#45;&gt;void&#45;hp -->\n<g id=\"edge11\" class=\"edge\">\n<title>dock&#45;hp&#45;&gt;void&#45;hp</title>\n<path fill=\"none\" stroke=\"#3f4444\" stroke-width=\"2\" d=\"M271.39,-249.12C272.22,-239.5 273.27,-227.31 274.23,-216.18\"/>\n<polygon fill=\"#3f4444\" stroke=\"#3f4444\" stroke-width=\"2\" points=\"277.7,-216.66 275.08,-206.39 270.73,-216.05 277.7,-216.66\"/>\n<text text-anchor=\"middle\" x=\"347.38\" y=\"-223.2\" font-family=\"Consolas\" font-size=\"9.00\">ndarray[Any, dtype[float32]]</text>\n<text text-anchor=\"middle\" x=\"255.64\" y=\"-240.57\" font-family=\"Consolas\" font-size=\"9.00\">scores</text>\n</g>\n<!-- dock&#45;hp&#45;&gt;mergelists -->\n<g id=\"edge12\" class=\"edge\">\n<title>dock&#45;hp&#45;&gt;mergelists</title>\n<path fill=\"none\" stroke=\"#3f4444\" stroke-width=\"2\" d=\"M237.35,-254.27C232.85,-252.68 228.26,-251.12 223.88,-249.75 193.43,-240.21 182.26,-247.26 154.38,-231.75 145.22,-226.66 136.51,-219.43 129.06,-212.2\"/>\n<polygon fill=\"#3f4444\" stroke=\"#3f4444\" stroke-width=\"2\" points=\"131.93,-210.13 122.47,-205.37 126.9,-215 131.93,-210.13\"/>\n<text text-anchor=\"middle\" x=\"212.62\" y=\"-223.2\" font-family=\"Consolas\" font-size=\"9.00\">list[IsomerCollection]</text>\n</g>\n<!-- sortbytag -->\n<g id=\"node13\" class=\"node\">\n<title>sortbytag</title>\n<path fill=\"#666666\" fill-opacity=\"0.133333\" stroke=\"#830051\" stroke-width=\"2\" d=\"M130.25,-119.25C130.25,-119.25 77.5,-119.25 77.5,-119.25 71.5,-119.25 65.5,-113.25 65.5,-107.25 65.5,-107.25 65.5,-95.25 65.5,-95.25 65.5,-89.25 71.5,-83.25 77.5,-83.25 77.5,-83.25 130.25,-83.25 130.25,-83.25 136.25,-83.25 142.25,-89.25 142.25,-95.25 142.25,-95.25 142.25,-107.25 142.25,-107.25 142.25,-113.25 136.25,-119.25 130.25,-119.25\"/>\n<text text-anchor=\"middle\" x=\"103.88\" y=\"-97.55\" font-family=\"Consolas\" font-size=\"11.00\">sortbytag</text>\n</g>\n<!-- mergelists&#45;&gt;sortbytag -->\n<g id=\"edge13\" class=\"edge\">\n<title>mergelists&#45;&gt;sortbytag</title>\n<path fill=\"none\" stroke=\"#3f4444\" stroke-width=\"2\" d=\"M105.44,-165.87C105.2,-156.25 104.9,-144.06 104.63,-132.93\"/>\n<polygon fill=\"#3f4444\" stroke=\"#3f4444\" stroke-width=\"2\" points=\"108.13,-133.06 104.39,-123.15 101.14,-133.24 108.13,-133.06\"/>\n<text text-anchor=\"middle\" x=\"124.25\" y=\"-139.95\" font-family=\"Consolas\" font-size=\"9.00\">list[T]</text>\n</g>\n<!-- extractscores -->\n<g id=\"node14\" class=\"node\">\n<title>extractscores</title>\n<path fill=\"#666666\" fill-opacity=\"0.133333\" stroke=\"#830051\" stroke-width=\"2\" d=\"M91.75,-36C91.75,-36 12,-36 12,-36 6,-36 0,-30 0,-24 0,-24 0,-12 0,-12 0,-6 6,0 12,0 12,0 91.75,0 91.75,0 97.75,0 103.75,-6 103.75,-12 103.75,-12 103.75,-24 103.75,-24 103.75,-30 97.75,-36 91.75,-36\"/>\n<text text-anchor=\"middle\" x=\"51.88\" y=\"-14.3\" font-family=\"Consolas\" font-size=\"11.00\">extractscores</text>\n</g>\n<!-- sortbytag&#45;&gt;extractscores -->\n<g id=\"edge14\" class=\"edge\">\n<title>sortbytag&#45;&gt;extractscores</title>\n<path fill=\"none\" stroke=\"#3f4444\" stroke-width=\"2\" d=\"M92.59,-82.62C86.03,-72.36 77.6,-59.19 70.11,-47.49\"/>\n<polygon fill=\"#3f4444\" stroke=\"#3f4444\" stroke-width=\"2\" points=\"73.29,-45.96 64.95,-39.43 67.39,-49.74 73.29,-45.96\"/>\n<text text-anchor=\"middle\" x=\"139.62\" y=\"-56.7\" font-family=\"Consolas\" font-size=\"9.00\">list[IsomerCollection]</text>\n</g>\n<!-- extractscores&#45;&gt;reinvent -->\n<g id=\"edge15\" class=\"edge\">\n<title>extractscores&#45;&gt;reinvent</title>\n<path fill=\"none\" stroke=\"#3f4444\" stroke-width=\"2\" d=\"M46.28,-36.87C41.67,-53.2 35.88,-78.11 35.88,-100.25 35.88,-768.25 35.88,-768.25 35.88,-768.25 35.88,-785.37 39.34,-804.15 43.04,-819.34\"/>\n<polygon fill=\"#3f4444\" stroke=\"#3f4444\" stroke-width=\"2\" points=\"39.58,-819.92 45.51,-828.7 46.35,-818.14 39.58,-819.92\"/>\n<text text-anchor=\"middle\" x=\"109.38\" y=\"-431.32\" font-family=\"Consolas\" font-size=\"9.00\">ndarray[Any, dtype[float32]]</text>\n</g>\n</g>\n</svg>\n",
      "text/plain": [
       "Workflow(name='dock', parent=None)"
      ]
     },
     "execution_count": 8,
     "metadata": {},
     "output_type": "execute_result"
    }
   ],
   "source": [
    "flow"
   ]
  },
  {
   "attachments": {},
   "cell_type": "markdown",
   "metadata": {},
   "source": [
    "## Run\n",
    "Run the workflow, it will exit once REINVENT has completed all iterations"
   ]
  },
  {
   "cell_type": "code",
   "execution_count": null,
   "metadata": {},
   "outputs": [],
   "source": [
    "flow.execute()"
   ]
  }
 ],
 "metadata": {
  "kernelspec": {
   "display_name": "maize-dev",
   "language": "python",
   "name": "python3"
  },
  "language_info": {
   "codemirror_mode": {
    "name": "ipython",
    "version": 3
   },
   "file_extension": ".py",
   "mimetype": "text/x-python",
   "name": "python",
   "nbconvert_exporter": "python",
   "pygments_lexer": "ipython3",
   "version": "3.10.13 | packaged by conda-forge | (main, Oct 26 2023, 18:07:37) [GCC 12.3.0]"
  },
  "orig_nbformat": 4,
  "vscode": {
   "interpreter": {
    "hash": "de9ca75dfeeb73f76b5183fd4a1a83f1a0aa601d1c409541c3df818670219cdd"
   }
  }
 },
 "nbformat": 4,
 "nbformat_minor": 2
}

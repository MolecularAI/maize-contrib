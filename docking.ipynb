{
 "cells": [
  {
   "attachments": {},
   "cell_type": "markdown",
   "metadata": {},
   "source": [
    "# Docking workflow\n",
    "This is a quick guide to setting up a simple linear workflow for docking small molecules.\n",
    "\n",
    "## Imports\n",
    "We will first import generally useful stuff - *maize* uses `pathlib` whenever file system paths are involved:"
   ]
  },
  {
   "cell_type": "code",
   "execution_count": 1,
   "metadata": {},
   "outputs": [],
   "source": [
    "from pathlib import Path"
   ]
  },
  {
   "attachments": {},
   "cell_type": "markdown",
   "metadata": {},
   "source": [
    "The core functionality of *maize* is contained in the `Workflow` class."
   ]
  },
  {
   "cell_type": "code",
   "execution_count": 2,
   "metadata": {},
   "outputs": [],
   "source": [
    "from maize.core.workflow import Workflow"
   ]
  },
  {
   "attachments": {},
   "cell_type": "markdown",
   "metadata": {},
   "source": [
    "We will also need some steps that allow us to load and save any kind of data:"
   ]
  },
  {
   "cell_type": "code",
   "execution_count": 3,
   "metadata": {},
   "outputs": [],
   "source": [
    "from maize.steps.io import LoadData, LogResult, Return, Void"
   ]
  },
  {
   "attachments": {},
   "cell_type": "markdown",
   "metadata": {},
   "source": [
    "Domain-specific steps are contained in the *maize-contrib* namespace package. We will need a docking step (`AutoDockGPU`) and a step to generate small molecule isomers / conformers (`Gypsum`)."
   ]
  },
  {
   "cell_type": "code",
   "execution_count": 4,
   "metadata": {},
   "outputs": [],
   "source": [
    "from maize.steps.mai.docking.adv import AutoDockGPU\n",
    "from maize.steps.mai.molecule import Gypsum\n",
    "from maize.utilities.chem import IsomerCollection"
   ]
  },
  {
   "attachments": {},
   "cell_type": "markdown",
   "metadata": {},
   "source": [
    "## Preparation\n",
    "### Configuration\n",
    "Most available workflow nodes in Maize require some system-specific configuration, such as the location of external software packages, names of modules, or python packages. This configuration takes place in a TOML file, by default Maize looks in `$XDG_CONFIG_HOME/maize.toml` (`~/.config/maize.toml`) for a file like this:"
   ]
  },
  {
   "cell_type": "code",
   "execution_count": 5,
   "metadata": {},
   "outputs": [
    {
     "name": "stdout",
     "output_type": "stream",
     "text": [
      "\n",
      "[autodockgpu]\n",
      "python = \"/projects/mai/users/${USER}_thomas/opt/miniconda3/envs/maize-dev/bin/python\"\n",
      "modules = [\"CUDA\", \"GCC\"]\n",
      "commands.autodock_gpu = \"/projects/mai/users/${USER}_thomas/src/AutoDock-GPU/bin/autodock_gpu_64wi\" \n",
      "\n",
      "[gypsum]\n",
      "scripts.gypsum.interpreter = \"/projects/mai/users/${USER}_thomas/opt/miniconda3/envs/gypsum/bin/python\"\n",
      "scripts.gypsum.location = \"/projects/mai/users/${USER}_thomas/src/gypsum_dl/run_gypsum_dl.py\"\n"
     ]
    }
   ],
   "source": [
    "!cat docking-example-config.toml"
   ]
  },
  {
   "attachments": {},
   "cell_type": "markdown",
   "metadata": {},
   "source": [
    "Here, we have configured the `AutoDockGPU` node by specifying the python interpreter to be used for its execution, the modules that need to be loaded before, as well as the precise location of the `autodock_gpu` command. We also need this information for `Gypsum` (to embed molecules), but since it's a script, we provide the script location and interpreter to use separately.\n",
    "\n",
    "How to provide this documentation is described in the documentation for each node. They will often have a `required_callables` class attribute specifying the name of the callable to be provided in the configuration. In the above example, `AutoDockGPU` requires a callable named `autodock_gpu`, the path to which we can provide using `commands.autodock_gpu`. In other cases the executable might already be in your `$PATH` (or loaded through the module system), in which case no additional configuration is required."
   ]
  },
  {
   "attachments": {},
   "cell_type": "markdown",
   "metadata": {},
   "source": [
    "### Grid\n",
    "We also need to specify the target grid file. `AutoDockGPU` requires an `.fld` file with references to a few other files to operate correctly."
   ]
  },
  {
   "cell_type": "code",
   "execution_count": 6,
   "metadata": {},
   "outputs": [],
   "source": [
    "grid = Path(\"../maize/steps/mai/docking/data/1stp/1stp_protein.maps.fld\")"
   ]
  },
  {
   "attachments": {},
   "cell_type": "markdown",
   "metadata": {},
   "source": [
    "## Workflow definition\n",
    "We can now create our workflow instance, give it a name, and possibly specify a logging level. `cleanup_temp=False` allows us to keep all files related to the execution instead of just using temporary directories. We also load our custom configuration because it's in a non-standard location."
   ]
  },
  {
   "cell_type": "code",
   "execution_count": 7,
   "metadata": {},
   "outputs": [],
   "source": [
    "flow = Workflow(name=\"dock\", level=\"info\", cleanup_temp=False)\n",
    "flow.config.update(Path(\"docking-example-config.toml\"))"
   ]
  },
  {
   "attachments": {},
   "cell_type": "markdown",
   "metadata": {},
   "source": [
    "### Adding nodes\n",
    "Workflow nodes can be added using the `add` method. We will need a node to load data and inject it into the workflow (`LoadData`), the molecule preparation and docking steps (`Gypsum` and `AutoDockGPU`), and steps to handle the output (`Void` and `Return`).\n",
    "\n",
    "Note that steps that accept any kind of generic data should be parameterised with the type. This is the case for `LoadData`, in this case we will be passing it a list of SMILES codes (`list[str]`), and also for `Return`. Doing this allows for all connections to be type-checked statically, catching many workflow construction errors."
   ]
  },
  {
   "cell_type": "code",
   "execution_count": 8,
   "metadata": {},
   "outputs": [],
   "source": [
    "load = flow.add(LoadData[list[str]])\n",
    "embe = flow.add(Gypsum)\n",
    "dock = flow.add(AutoDockGPU)\n",
    "void = flow.add(Void)\n",
    "retu = flow.add(Return[list[IsomerCollection]])"
   ]
  },
  {
   "attachments": {},
   "cell_type": "markdown",
   "metadata": {},
   "source": [
    "## Configuration\n",
    "We can now set the required parameters. `LoadData` requires setting the `data` parameter with the data we want to send on to the next node. We also specify that we want a maximum of 2 variants for the isomer generation / embedding step, and we also need to specify the docking grid:"
   ]
  },
  {
   "cell_type": "code",
   "execution_count": 9,
   "metadata": {},
   "outputs": [],
   "source": [
    "load.data.set([\"Nc1ccc(ccc1N)C\", \"Nc1ccc(cc1N)C\"])\n",
    "embe.n_variants.set(2)\n",
    "dock.grid_file.set(grid)"
   ]
  },
  {
   "attachments": {},
   "cell_type": "markdown",
   "metadata": {},
   "source": [
    "### Connections\n",
    "All that is left to do now is to connect all nodes together:"
   ]
  },
  {
   "cell_type": "code",
   "execution_count": 10,
   "metadata": {},
   "outputs": [],
   "source": [
    "flow.connect(load.out, embe.inp)\n",
    "flow.connect(embe.out, dock.inp)\n",
    "flow.connect(dock.out, retu.inp)\n",
    "flow.connect(dock.out_scores, void.inp)"
   ]
  },
  {
   "attachments": {},
   "cell_type": "markdown",
   "metadata": {},
   "source": [
    "We can check if everything is ready to run using the `check()` method. It will ensure all nodes in the graph are connected properly (with correct types) and also go through each node's software requirements, making sure it's all available:"
   ]
  },
  {
   "cell_type": "code",
   "execution_count": 11,
   "metadata": {},
   "outputs": [],
   "source": [
    "flow.check()"
   ]
  },
  {
   "attachments": {},
   "cell_type": "markdown",
   "metadata": {},
   "source": [
    "If you installed *maize* with `graphviz` you can visualize the workflow in your notebook:"
   ]
  },
  {
   "cell_type": "code",
   "execution_count": 12,
   "metadata": {},
   "outputs": [
    {
     "data": {
      "image/svg+xml": [
       "<?xml version=\"1.0\" encoding=\"UTF-8\" standalone=\"no\"?>\n",
       "<!DOCTYPE svg PUBLIC \"-//W3C//DTD SVG 1.1//EN\"\n",
       " \"http://www.w3.org/Graphics/SVG/1.1/DTD/svg11.dtd\">\n",
       "<!-- Generated by graphviz version 8.1.0 (20230707.2238)\n",
       " -->\n",
       "<!-- Title: dock Pages: 1 -->\n",
       "<svg width=\"307pt\" height=\"294pt\"\n",
       " viewBox=\"0.00 0.00 306.50 293.75\" xmlns=\"http://www.w3.org/2000/svg\" xmlns:xlink=\"http://www.w3.org/1999/xlink\">\n",
       "<g id=\"graph0\" class=\"graph\" transform=\"scale(1 1) rotate(0) translate(4 289.75)\">\n",
       "<title>dock</title>\n",
       "<polygon fill=\"none\" stroke=\"none\" points=\"-4,4 -4,-289.75 302.5,-289.75 302.5,4 -4,4\"/>\n",
       "<!-- loaddata -->\n",
       "<g id=\"node1\" class=\"node\">\n",
       "<title>loaddata</title>\n",
       "<path fill=\"#666666\" fill-opacity=\"0.133333\" stroke=\"#830051\" stroke-width=\"2\" d=\"M135,-285.75C135,-285.75 89,-285.75 89,-285.75 83,-285.75 77,-279.75 77,-273.75 77,-273.75 77,-261.75 77,-261.75 77,-255.75 83,-249.75 89,-249.75 89,-249.75 135,-249.75 135,-249.75 141,-249.75 147,-255.75 147,-261.75 147,-261.75 147,-273.75 147,-273.75 147,-279.75 141,-285.75 135,-285.75\"/>\n",
       "<text text-anchor=\"middle\" x=\"112\" y=\"-264.05\" font-family=\"Consolas\" font-size=\"11.00\">loaddata</text>\n",
       "</g>\n",
       "<!-- gypsum -->\n",
       "<g id=\"node2\" class=\"node\">\n",
       "<title>gypsum</title>\n",
       "<path fill=\"#666666\" fill-opacity=\"0.133333\" stroke=\"#830051\" stroke-width=\"2\" d=\"M128.25,-202.5C128.25,-202.5 95.75,-202.5 95.75,-202.5 89.75,-202.5 83.75,-196.5 83.75,-190.5 83.75,-190.5 83.75,-178.5 83.75,-178.5 83.75,-172.5 89.75,-166.5 95.75,-166.5 95.75,-166.5 128.25,-166.5 128.25,-166.5 134.25,-166.5 140.25,-172.5 140.25,-178.5 140.25,-178.5 140.25,-190.5 140.25,-190.5 140.25,-196.5 134.25,-202.5 128.25,-202.5\"/>\n",
       "<text text-anchor=\"middle\" x=\"112\" y=\"-180.8\" font-family=\"Consolas\" font-size=\"11.00\">gypsum</text>\n",
       "</g>\n",
       "<!-- loaddata&#45;&gt;gypsum -->\n",
       "<g id=\"edge1\" class=\"edge\">\n",
       "<title>loaddata&#45;&gt;gypsum</title>\n",
       "<path fill=\"none\" stroke=\"#3f4444\" stroke-width=\"2\" d=\"M112,-249.12C112,-239.5 112,-227.31 112,-216.18\"/>\n",
       "<polygon fill=\"#3f4444\" stroke=\"#3f4444\" stroke-width=\"2\" points=\"115.5,-216.38 112,-206.38 108.5,-216.38 115.5,-216.38\"/>\n",
       "<text text-anchor=\"middle\" x=\"135.62\" y=\"-223.2\" font-family=\"Consolas\" font-size=\"9.00\">list[str]</text>\n",
       "</g>\n",
       "<!-- autodockgpu -->\n",
       "<g id=\"node3\" class=\"node\">\n",
       "<title>autodockgpu</title>\n",
       "<path fill=\"#666666\" fill-opacity=\"0.133333\" stroke=\"#830051\" stroke-width=\"2\" d=\"M145.12,-119.25C145.12,-119.25 78.88,-119.25 78.88,-119.25 72.88,-119.25 66.88,-113.25 66.88,-107.25 66.88,-107.25 66.88,-95.25 66.88,-95.25 66.88,-89.25 72.88,-83.25 78.88,-83.25 78.88,-83.25 145.12,-83.25 145.12,-83.25 151.12,-83.25 157.12,-89.25 157.12,-95.25 157.12,-95.25 157.12,-107.25 157.12,-107.25 157.12,-113.25 151.12,-119.25 145.12,-119.25\"/>\n",
       "<text text-anchor=\"middle\" x=\"112\" y=\"-97.55\" font-family=\"Consolas\" font-size=\"11.00\">autodockgpu</text>\n",
       "</g>\n",
       "<!-- gypsum&#45;&gt;autodockgpu -->\n",
       "<g id=\"edge2\" class=\"edge\">\n",
       "<title>gypsum&#45;&gt;autodockgpu</title>\n",
       "<path fill=\"none\" stroke=\"#3f4444\" stroke-width=\"2\" d=\"M112,-165.87C112,-156.25 112,-144.06 112,-132.93\"/>\n",
       "<polygon fill=\"#3f4444\" stroke=\"#3f4444\" stroke-width=\"2\" points=\"115.5,-133.13 112,-123.13 108.5,-133.13 115.5,-133.13\"/>\n",
       "<text text-anchor=\"middle\" x=\"169.75\" y=\"-139.95\" font-family=\"Consolas\" font-size=\"9.00\">list[IsomerCollection]</text>\n",
       "</g>\n",
       "<!-- void -->\n",
       "<g id=\"node4\" class=\"node\">\n",
       "<title>void</title>\n",
       "<path fill=\"#666666\" fill-opacity=\"0.133333\" stroke=\"#830051\" stroke-width=\"2\" d=\"M42,-36C42,-36 12,-36 12,-36 6,-36 0,-30 0,-24 0,-24 0,-12 0,-12 0,-6 6,0 12,0 12,0 42,0 42,0 48,0 54,-6 54,-12 54,-12 54,-24 54,-24 54,-30 48,-36 42,-36\"/>\n",
       "<text text-anchor=\"middle\" x=\"27\" y=\"-14.3\" font-family=\"Consolas\" font-size=\"11.00\">void</text>\n",
       "</g>\n",
       "<!-- autodockgpu&#45;&gt;void -->\n",
       "<g id=\"edge4\" class=\"edge\">\n",
       "<title>autodockgpu&#45;&gt;void</title>\n",
       "<path fill=\"none\" stroke=\"#3f4444\" stroke-width=\"2\" d=\"M65.92,-92.85C49.92,-87.83 33.6,-79.4 24,-65.25 20.85,-60.61 19.64,-55.06 19.54,-49.45\"/>\n",
       "<polygon fill=\"#3f4444\" stroke=\"#3f4444\" stroke-width=\"2\" points=\"23.34,-49.95 20.96,-39.62 16.38,-49.18 23.34,-49.95\"/>\n",
       "<text text-anchor=\"middle\" x=\"97.5\" y=\"-56.7\" font-family=\"Consolas\" font-size=\"9.00\">ndarray[Any, dtype[float32]]</text>\n",
       "<text text-anchor=\"middle\" x=\"50.17\" y=\"-95.55\" font-family=\"Consolas\" font-size=\"9.00\">scores</text>\n",
       "</g>\n",
       "<!-- return -->\n",
       "<g id=\"node5\" class=\"node\">\n",
       "<title>return</title>\n",
       "<path fill=\"#666666\" fill-opacity=\"0.133333\" stroke=\"#830051\" stroke-width=\"2\" d=\"M213.25,-36C213.25,-36 180.75,-36 180.75,-36 174.75,-36 168.75,-30 168.75,-24 168.75,-24 168.75,-12 168.75,-12 168.75,-6 174.75,0 180.75,0 180.75,0 213.25,0 213.25,0 219.25,0 225.25,-6 225.25,-12 225.25,-12 225.25,-24 225.25,-24 225.25,-30 219.25,-36 213.25,-36\"/>\n",
       "<text text-anchor=\"middle\" x=\"197\" y=\"-14.3\" font-family=\"Consolas\" font-size=\"11.00\">return</text>\n",
       "</g>\n",
       "<!-- autodockgpu&#45;&gt;return -->\n",
       "<g id=\"edge3\" class=\"edge\">\n",
       "<title>autodockgpu&#45;&gt;return</title>\n",
       "<path fill=\"none\" stroke=\"#3f4444\" stroke-width=\"2\" d=\"M152.97,-82.37C160.94,-77.62 168.75,-71.91 175,-65.25 179.6,-60.35 183.4,-54.32 186.47,-48.24\"/>\n",
       "<polygon fill=\"#3f4444\" stroke=\"#3f4444\" stroke-width=\"2\" points=\"189.68,-49.36 190.5,-38.8 183.27,-46.54 189.68,-49.36\"/>\n",
       "<text text-anchor=\"middle\" x=\"240.75\" y=\"-56.7\" font-family=\"Consolas\" font-size=\"9.00\">list[IsomerCollection]</text>\n",
       "</g>\n",
       "</g>\n",
       "</svg>\n"
      ],
      "text/plain": [
       "<graphviz.graphs.Digraph at 0x7f5095f5fac0>"
      ]
     },
     "execution_count": 12,
     "metadata": {},
     "output_type": "execute_result"
    }
   ],
   "source": [
    "flow.visualize()"
   ]
  },
  {
   "attachments": {},
   "cell_type": "markdown",
   "metadata": {},
   "source": [
    "## Running\n",
    "We can now run our graph!"
   ]
  },
  {
   "cell_type": "code",
   "execution_count": 13,
   "metadata": {},
   "outputs": [
    {
     "name": "stderr",
     "output_type": "stream",
     "text": [
      "2023-09-05 10:46:50,129 | \u001b[1;34m    INFO\u001b[0m |             dock | \n",
      "              ___           ___                       ___           ___\n",
      "             /\\__\\         /\\  \\          ___        /\\  \\         /\\  \\\n",
      "            /::|  |       /::\\  \\        /\\  \\       \\:\\  \\       /::\\  \\\n",
      "           /:|:|  |      /:/\\:\\  \\       \\:\\  \\       \\:\\  \\     /:/\\:\\  \\\n",
      "          /:/|:|__|__   /::\\~\\:\\  \\      /::\\__\\       \\:\\  \\   /::\\~\\:\\  \\\n",
      "         /:/ |::::\\__\\ /:/\\:\\ \\:\\__\\  __/:/\\/__/ _______\\:\\__\\ /:/\\:\\ \\:\\__\\\n",
      "         \\/__/~~/:/  / \\/__\\:\\/:/  / /\\/:/  /    \\::::::::/__/ \\:\\~\\:\\ \\/__/\n",
      "               /:/  /       \\::/  /  \\::/__/      \\:\\~~\\~~      \\:\\ \\:\\__\\\n",
      "              /:/  /        /:/  /    \\:\\__\\       \\:\\  \\        \\:\\ \\/__/\n",
      "             /:/  /        /:/  /      \\/__/        \\:\\__\\        \\:\\__\\\n",
      "             \\/__/         \\/__/                     \\/__/         \\/__/\n",
      "\n",
      "\n",
      "2023-09-05 10:46:50,130 | \u001b[1;34m    INFO\u001b[0m |             dock | Starting Maize version 0.4.1 (c) AstraZeneca 2023\n",
      "2023-09-05 10:46:51,326 | \u001b[1;34m    INFO\u001b[0m |             dock | Node 'loaddata' finished (1/5)\n",
      "2023-09-05 10:46:52,144 | \u001b[1;34m    INFO\u001b[0m |             dock | Node 'gypsum' finished (2/5)\n",
      "2023-09-05 10:46:52,294 | \u001b[1;33m WARNING\u001b[0m |      autodockgpu | Docking isomer 'UPIWLIWRZMYFKW-HTQZYQBONA-N' failed\n",
      "2023-09-05 10:46:52,301 | \u001b[1;34m    INFO\u001b[0m |      autodockgpu | Parsed isomer 'UPIWLIWRZMYFKW-ITHFDTRPNA-P', score -3.27\n",
      "2023-09-05 10:46:52,341 | \u001b[1;34m    INFO\u001b[0m |      autodockgpu | Parsed isomer 'DGRGLKZMKWPMOH-UHFFFAOYNA-N', score -4.43\n",
      "2023-09-05 10:46:52,377 | \u001b[1;34m    INFO\u001b[0m |             dock | Node 'return' finished (3/5)\n",
      "2023-09-05 10:46:53,383 | \u001b[1;34m    INFO\u001b[0m |             dock | Node 'autodockgpu' finished (4/5)\n",
      "2023-09-05 10:46:53,853 | \u001b[1;34m    INFO\u001b[0m |             dock | Node 'void' finished (5/5)\n",
      "2023-09-05 10:46:54,356 | \u001b[1;34m    INFO\u001b[0m |             dock | Execution completed :), total runtime: 0:00:03.674147\n",
      "\t4 nodes completed successfully\n",
      "\t1 nodes stopped due to closing ports\n",
      "\t0 nodes failed\n",
      "\t0:00:09.299583 total walltime\n",
      "\t0:00:04.741414 spent waiting for resources or other nodes\n"
     ]
    }
   ],
   "source": [
    "flow.execute()"
   ]
  },
  {
   "attachments": {},
   "cell_type": "markdown",
   "metadata": {},
   "source": [
    "## Results\n",
    "If all went well you should see a summary of the workflow run in the log above. `LogResult` recorded the docking scores and printed them to the log, but we also have access to the docked conformations through the `Return` node. To access this data, just call `get()`:"
   ]
  },
  {
   "cell_type": "code",
   "execution_count": 14,
   "metadata": {},
   "outputs": [
    {
     "data": {
      "text/plain": [
       "[IsomerCollection('CC1CC[C@H]([NH3+])[C@@H]([NH3+])CC1', n_isomers=2),\n",
       " IsomerCollection('Cc1ccc(N)c(N)c1', n_isomers=1, best_score=-4.43)]"
      ]
     },
     "execution_count": 14,
     "metadata": {},
     "output_type": "execute_result"
    }
   ],
   "source": [
    "mols = retu.get()\n",
    "mols"
   ]
  },
  {
   "attachments": {},
   "cell_type": "markdown",
   "metadata": {},
   "source": [
    "Here, `IsomerCollection` is a simple container around `Isomer` objects, which in turn are pythonic wrappers around RDKit molecules. These can be accessed using the `_molecule` attribute:"
   ]
  },
  {
   "cell_type": "code",
   "execution_count": 15,
   "metadata": {},
   "outputs": [
    {
     "data": {
      "image/png": "[encoded data removed]",
      "text/html": [
       "<table><tr><td colspan=\"2\" style=\"text-align: center;\"><image src=\"data:image/png;base64,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\"></td></tr>\n",
       "<tr><th style=\"text-align: right\">UniqueID</th><td style=\"text-align: left\">1</td></tr>\n",
       "<tr><th style=\"text-align: right\">SMILES</th><td style=\"text-align: left\">CC1CC[C@@H](N)[C@H](N)CC1</td></tr>\n",
       "<tr><th style=\"text-align: right\">Energy</th><td style=\"text-align: left\">35.402799745012786</td></tr>\n",
       "<tr><th style=\"text-align: right\">Genealogy</th><td style=\"text-align: left\">CC1CC[C@@H](N)[C@H](N)CC1 (chirality)\n",
       "CC1CC[C@@H](N)[C@H](N)CC1 (3D coordinates assigned)\n",
       "CC1CC[C@@H](N)[C@H](N)CC1 (nonaromatic ring conformer: 35.402799745012786 kcal/mol)</td></tr>\n",
       "<tr><th style=\"text-align: right\">energy</th><td style=\"text-align: left\">[nan, nan, nan, nan, nan, nan, nan, nan, nan, nan, nan, nan, nan, nan, nan, nan, nan, nan, nan, nan]</td></tr></table>"
      ],
      "text/plain": [
       "<rdkit.Chem.rdchem.Mol at 0x7f5095f21a80>"
      ]
     },
     "execution_count": 15,
     "metadata": {},
     "output_type": "execute_result"
    }
   ],
   "source": [
    "mols[0].molecules[0]._molecule"
   ]
  },
  {
   "attachments": {},
   "cell_type": "markdown",
   "metadata": {},
   "source": [
    "# Adding a custom node\n",
    "\n",
    "In the above workflow, we just discarded the docking scores of the molecules and instead used only the docked conformations. Lets create our own node that will log the docked scores. We will first import some required classes to allow us to define our node:"
   ]
  },
  {
   "cell_type": "code",
   "execution_count": 16,
   "metadata": {},
   "outputs": [],
   "source": [
    "import numpy as np\n",
    "from numpy.typing import NDArray\n",
    "\n",
    "from maize.core.interface import Input\n",
    "from maize.core.node import Node"
   ]
  },
  {
   "attachments": {},
   "cell_type": "markdown",
   "metadata": {},
   "source": [
    "## Defining nodes\n",
    "\n",
    "We define our custom node by creating a new class inheriting from the node class. Every workflow node must have at least one port (`Input` and / or `Output`) and a `run` method describing the logic. Ports must also declare the correct type, to minimize errors in graph construction.\n",
    "\n",
    "In this node, we just receive the scores (a blocking call) and then print them out using the built-in logger."
   ]
  },
  {
   "cell_type": "code",
   "execution_count": 17,
   "metadata": {},
   "outputs": [],
   "source": [
    "class ScoreLog(Node):\n",
    "    \"\"\"Logs scores in the form of NDArrays\"\"\"\n",
    "\n",
    "    inp: Input[NDArray[np.float32]] = Input()\n",
    "\n",
    "    def run(self) -> None:\n",
    "        scores = self.inp.receive()\n",
    "        self.logger.info(\"Received scores: %s\", scores)"
   ]
  },
  {
   "attachments": {},
   "cell_type": "markdown",
   "metadata": {},
   "source": [
    "## Workflow\n",
    "\n",
    "We can now build up our workflow as normal, substituting our `ScoreLog` node for the `Void` node:"
   ]
  },
  {
   "cell_type": "code",
   "execution_count": 18,
   "metadata": {},
   "outputs": [],
   "source": [
    "flow = Workflow(name=\"dock\", level=\"info\", cleanup_temp=False)\n",
    "flow.config.update(Path(\"docking-example-config.toml\"))"
   ]
  },
  {
   "cell_type": "code",
   "execution_count": 19,
   "metadata": {},
   "outputs": [],
   "source": [
    "load = flow.add(LoadData[list[str]])\n",
    "embe = flow.add(Gypsum)\n",
    "dock = flow.add(AutoDockGPU)\n",
    "save = flow.add(ScoreLog)\n",
    "retu = flow.add(Return[list[IsomerCollection]])"
   ]
  },
  {
   "attachments": {},
   "cell_type": "markdown",
   "metadata": {},
   "source": [
    "Our new node has no parameters, so everything stays the same here:"
   ]
  },
  {
   "cell_type": "code",
   "execution_count": 20,
   "metadata": {},
   "outputs": [],
   "source": [
    "load.data.set([\"Nc1ccc(ccc1N)C\", \"Nc1ccc(cc1N)C\"])\n",
    "embe.n_variants.set(2)\n",
    "dock.grid_file.set(grid)"
   ]
  },
  {
   "attachments": {},
   "cell_type": "markdown",
   "metadata": {},
   "source": [
    "We again connect everything together:"
   ]
  },
  {
   "cell_type": "code",
   "execution_count": 21,
   "metadata": {},
   "outputs": [],
   "source": [
    "flow.connect(load.out, embe.inp)\n",
    "flow.connect(embe.out, dock.inp)\n",
    "flow.connect(dock.out, retu.inp)\n",
    "flow.connect(dock.out_scores, save.inp)"
   ]
  },
  {
   "attachments": {},
   "cell_type": "markdown",
   "metadata": {},
   "source": [
    "And check we didn't make a mistake:"
   ]
  },
  {
   "cell_type": "code",
   "execution_count": 22,
   "metadata": {},
   "outputs": [],
   "source": [
    "flow.check()"
   ]
  },
  {
   "attachments": {},
   "cell_type": "markdown",
   "metadata": {},
   "source": [
    "## Running\n",
    "\n",
    "Let's run the new workflow, we should see the scores getting logged by our own node:"
   ]
  },
  {
   "cell_type": "code",
   "execution_count": 23,
   "metadata": {},
   "outputs": [
    {
     "name": "stderr",
     "output_type": "stream",
     "text": [
      "2023-09-05 10:46:55,671 | \u001b[1;34m    INFO\u001b[0m |             dock | \n",
      "              ___           ___                       ___           ___\n",
      "             /\\__\\         /\\  \\          ___        /\\  \\         /\\  \\\n",
      "            /::|  |       /::\\  \\        /\\  \\       \\:\\  \\       /::\\  \\\n",
      "           /:|:|  |      /:/\\:\\  \\       \\:\\  \\       \\:\\  \\     /:/\\:\\  \\\n",
      "          /:/|:|__|__   /::\\~\\:\\  \\      /::\\__\\       \\:\\  \\   /::\\~\\:\\  \\\n",
      "         /:/ |::::\\__\\ /:/\\:\\ \\:\\__\\  __/:/\\/__/ _______\\:\\__\\ /:/\\:\\ \\:\\__\\\n",
      "         \\/__/~~/:/  / \\/__\\:\\/:/  / /\\/:/  /    \\::::::::/__/ \\:\\~\\:\\ \\/__/\n",
      "               /:/  /       \\::/  /  \\::/__/      \\:\\~~\\~~      \\:\\ \\:\\__\\\n",
      "              /:/  /        /:/  /    \\:\\__\\       \\:\\  \\        \\:\\ \\/__/\n",
      "             /:/  /        /:/  /      \\/__/        \\:\\__\\        \\:\\__\\\n",
      "             \\/__/         \\/__/                     \\/__/         \\/__/\n",
      "\n",
      "\n",
      "2023-09-05 10:46:55,673 | \u001b[1;34m    INFO\u001b[0m |             dock | Starting Maize version 0.4.1 (c) AstraZeneca 2023\n",
      "2023-09-05 10:46:56,899 | \u001b[1;34m    INFO\u001b[0m |             dock | Node 'loaddata' finished (1/5)\n",
      "2023-09-05 10:46:57,717 | \u001b[1;34m    INFO\u001b[0m |             dock | Node 'gypsum' finished (2/5)\n",
      "2023-09-05 10:46:58,259 | \u001b[1;34m    INFO\u001b[0m |      autodockgpu | Parsed isomer 'UPIWLIWRZMYFKW-NNELSRSVNA-P', score -2.7\n",
      "2023-09-05 10:46:58,302 | \u001b[1;34m    INFO\u001b[0m |      autodockgpu | Parsed isomer 'UPIWLIWRZMYFKW-ITHFDTRPNA-P', score -3.45\n",
      "2023-09-05 10:46:58,328 | \u001b[1;34m    INFO\u001b[0m |      autodockgpu | Parsed isomer 'DGRGLKZMKWPMOH-UHFFFAOYNA-N', score -4.4\n",
      "2023-09-05 10:46:58,355 | \u001b[1;34m    INFO\u001b[0m |             dock | Node 'return' finished (3/5)\n",
      "2023-09-05 10:46:58,887 | \u001b[1;34m    INFO\u001b[0m |             dock | Node 'scorelog' finished (4/5)\n",
      "2023-09-05 10:46:58,883 | \u001b[1;34m    INFO\u001b[0m |         scorelog | Received scores: [-3.45 -4.4 ]\n",
      "2023-09-05 10:46:59,384 | \u001b[1;34m    INFO\u001b[0m |             dock | Node 'autodockgpu' finished (5/5)\n",
      "2023-09-05 10:46:59,887 | \u001b[1;34m    INFO\u001b[0m |             dock | Execution completed :), total runtime: 0:00:03.664648\n",
      "\t5 nodes completed successfully\n",
      "\t0 nodes stopped due to closing ports\n",
      "\t0 nodes failed\n",
      "\t0:00:10.142232 total walltime\n",
      "\t0:00:08.158412 spent waiting for resources or other nodes\n"
     ]
    }
   ],
   "source": [
    "flow.execute()"
   ]
  },
  {
   "attachments": {},
   "cell_type": "markdown",
   "metadata": {},
   "source": [
    "# High-throughput docking\n",
    "The workflow above is a classic example of a directed acyclic graph (DAG). Each step is effectively run sequentially, which is not a problem for a small number of molecules, but can become a problem for very large amounts, as we might spend a lot of time embedding molecules, while we could already start docking some of them.\n",
    "\n",
    "In Maize we can sidestep this problem by batching our data and sending it through the same workflow repeatedly. To do this we will need two generic helper nodes, `Batch` and `Combine`:"
   ]
  },
  {
   "cell_type": "code",
   "execution_count": 24,
   "metadata": {},
   "outputs": [],
   "source": [
    "import numpy as np\n",
    "from numpy.typing import NDArray\n",
    "\n",
    "from maize.steps.plumbing import Batch, Combine\n",
    "from maize.steps.io import Void"
   ]
  },
  {
   "attachments": {},
   "cell_type": "markdown",
   "metadata": {},
   "source": [
    "## Workflow\n",
    "We can now again build our workflow, we will start just like before:"
   ]
  },
  {
   "cell_type": "code",
   "execution_count": 25,
   "metadata": {},
   "outputs": [],
   "source": [
    "flow = Workflow(name=\"dock-ht\", level=\"info\", cleanup_temp=False)\n",
    "flow.config.update(Path(\"docking-example-config.toml\"))"
   ]
  },
  {
   "attachments": {},
   "cell_type": "markdown",
   "metadata": {},
   "source": [
    "We again add all required nodes just like before, as well as the `Batch` and `Combine` nodes. The former will receive a list of items and split it into smaller lists, while the latter will perform the opposite. This will allow us to send smaller batches of SMILES to be docked, allowing molecules to be embedded on the CPU while the previous batch is already docking on the GPU. To make this possible, both `Gypsum` and `AutoDockGPU` will need to be able to continuously accept data, we can set this option with `loop=True`. We will finally simplify things a bit and just send the docked molecule conformations to a `Void` node, discarding them (equivalent to `/dev/null`) and only keeping the scores."
   ]
  },
  {
   "cell_type": "code",
   "execution_count": 26,
   "metadata": {},
   "outputs": [],
   "source": [
    "load = flow.add(LoadData[list[str]])\n",
    "batch = flow.add(Batch[str])\n",
    "embe = flow.add(Gypsum, loop=True)\n",
    "dock = flow.add(AutoDockGPU, loop=True)\n",
    "comb = flow.add(Combine[NDArray[np.float32]])\n",
    "save = flow.add(LogResult)\n",
    "void = flow.add(Void)"
   ]
  },
  {
   "attachments": {},
   "cell_type": "markdown",
   "metadata": {},
   "source": [
    "### Configuration\n",
    "We again configure our workflow as before:"
   ]
  },
  {
   "cell_type": "code",
   "execution_count": 27,
   "metadata": {},
   "outputs": [],
   "source": [
    "load.data.set([\"Nc1ccc(ccc1N)C\", \"Nc1ccc(cc1N)C\", \"Nc1cc(F)c(cc1N)C\", \"Nc1ccc(cc1N)C(F)\"])\n",
    "embe.n_variants.set(2)\n",
    "dock.grid_file.set(grid)"
   ]
  },
  {
   "attachments": {},
   "cell_type": "markdown",
   "metadata": {},
   "source": [
    "However, we now also need to set the number of batches to use, and we need to set the same value for both `Batch` and `Combine`. Instead of setting both individually we can combine both parameters into a single one to make the setting less error-prone using `combine_parameters`:"
   ]
  },
  {
   "cell_type": "code",
   "execution_count": 28,
   "metadata": {},
   "outputs": [],
   "source": [
    "n_batches = flow.combine_parameters(batch.n_batches, comb.n_batches)\n",
    "n_batches.set(2)"
   ]
  },
  {
   "attachments": {},
   "cell_type": "markdown",
   "metadata": {},
   "source": [
    "We again connect everything, but this time take a shortcut by using `connect_all`:"
   ]
  },
  {
   "cell_type": "code",
   "execution_count": 29,
   "metadata": {},
   "outputs": [],
   "source": [
    "flow.connect_all(\n",
    "    (load.out, batch.inp),\n",
    "    (batch.out, embe.inp),\n",
    "    (embe.out, dock.inp),\n",
    "    (dock.out, void.inp),\n",
    "    (dock.out_scores, comb.inp),\n",
    "    (comb.out, save.inp),\n",
    ")"
   ]
  },
  {
   "attachments": {},
   "cell_type": "markdown",
   "metadata": {},
   "source": [
    "We check everything's okay and look at the graph structure:"
   ]
  },
  {
   "cell_type": "code",
   "execution_count": 30,
   "metadata": {},
   "outputs": [
    {
     "data": {
      "image/svg+xml": [
       "<?xml version=\"1.0\" encoding=\"UTF-8\" standalone=\"no\"?>\n",
       "<!DOCTYPE svg PUBLIC \"-//W3C//DTD SVG 1.1//EN\"\n",
       " \"http://www.w3.org/Graphics/SVG/1.1/DTD/svg11.dtd\">\n",
       "<!-- Generated by graphviz version 8.1.0 (20230707.2238)\n",
       " -->\n",
       "<!-- Title: dock&#45;ht Pages: 1 -->\n",
       "<svg width=\"318pt\" height=\"460pt\"\n",
       " viewBox=\"0.00 0.00 317.88 460.25\" xmlns=\"http://www.w3.org/2000/svg\" xmlns:xlink=\"http://www.w3.org/1999/xlink\">\n",
       "<g id=\"graph0\" class=\"graph\" transform=\"scale(1 1) rotate(0) translate(4 456.25)\">\n",
       "<title>dock&#45;ht</title>\n",
       "<polygon fill=\"none\" stroke=\"none\" points=\"-4,4 -4,-456.25 313.88,-456.25 313.88,4 -4,4\"/>\n",
       "<!-- loaddata -->\n",
       "<g id=\"node1\" class=\"node\">\n",
       "<title>loaddata</title>\n",
       "<path fill=\"#666666\" fill-opacity=\"0.133333\" stroke=\"#830051\" stroke-width=\"2\" d=\"M146.38,-452.25C146.38,-452.25 100.38,-452.25 100.38,-452.25 94.38,-452.25 88.38,-446.25 88.38,-440.25 88.38,-440.25 88.38,-428.25 88.38,-428.25 88.38,-422.25 94.38,-416.25 100.38,-416.25 100.38,-416.25 146.38,-416.25 146.38,-416.25 152.38,-416.25 158.38,-422.25 158.38,-428.25 158.38,-428.25 158.38,-440.25 158.38,-440.25 158.38,-446.25 152.38,-452.25 146.38,-452.25\"/>\n",
       "<text text-anchor=\"middle\" x=\"123.38\" y=\"-430.55\" font-family=\"Consolas\" font-size=\"11.00\">loaddata</text>\n",
       "</g>\n",
       "<!-- batch -->\n",
       "<g id=\"node2\" class=\"node\">\n",
       "<title>batch</title>\n",
       "<path fill=\"#666666\" fill-opacity=\"0.133333\" stroke=\"#830051\" stroke-width=\"2\" d=\"M138.38,-369C138.38,-369 108.38,-369 108.38,-369 102.38,-369 96.38,-363 96.38,-357 96.38,-357 96.38,-345 96.38,-345 96.38,-339 102.38,-333 108.38,-333 108.38,-333 138.38,-333 138.38,-333 144.38,-333 150.38,-339 150.38,-345 150.38,-345 150.38,-357 150.38,-357 150.38,-363 144.38,-369 138.38,-369\"/>\n",
       "<text text-anchor=\"middle\" x=\"123.38\" y=\"-347.3\" font-family=\"Consolas\" font-size=\"11.00\">batch</text>\n",
       "</g>\n",
       "<!-- loaddata&#45;&gt;batch -->\n",
       "<g id=\"edge1\" class=\"edge\">\n",
       "<title>loaddata&#45;&gt;batch</title>\n",
       "<path fill=\"none\" stroke=\"#3f4444\" stroke-width=\"2\" d=\"M123.38,-415.62C123.38,-406 123.38,-393.81 123.38,-382.68\"/>\n",
       "<polygon fill=\"#3f4444\" stroke=\"#3f4444\" stroke-width=\"2\" points=\"126.88,-382.88 123.38,-372.88 119.88,-382.88 126.88,-382.88\"/>\n",
       "<text text-anchor=\"middle\" x=\"147\" y=\"-389.7\" font-family=\"Consolas\" font-size=\"9.00\">list[str]</text>\n",
       "</g>\n",
       "<!-- gypsum -->\n",
       "<g id=\"node3\" class=\"node\">\n",
       "<title>gypsum</title>\n",
       "<path fill=\"#666666\" fill-opacity=\"0.133333\" stroke=\"#830051\" stroke-width=\"2\" d=\"M139.62,-285.75C139.62,-285.75 107.12,-285.75 107.12,-285.75 101.12,-285.75 95.12,-279.75 95.12,-273.75 95.12,-273.75 95.12,-261.75 95.12,-261.75 95.12,-255.75 101.12,-249.75 107.12,-249.75 107.12,-249.75 139.62,-249.75 139.62,-249.75 145.62,-249.75 151.62,-255.75 151.62,-261.75 151.62,-261.75 151.62,-273.75 151.62,-273.75 151.62,-279.75 145.62,-285.75 139.62,-285.75\"/>\n",
       "<text text-anchor=\"middle\" x=\"123.38\" y=\"-264.05\" font-family=\"Consolas\" font-size=\"11.00\">gypsum</text>\n",
       "</g>\n",
       "<!-- batch&#45;&gt;gypsum -->\n",
       "<g id=\"edge2\" class=\"edge\">\n",
       "<title>batch&#45;&gt;gypsum</title>\n",
       "<path fill=\"none\" stroke=\"#3f4444\" stroke-width=\"2\" d=\"M123.38,-332.37C123.38,-322.75 123.38,-310.56 123.38,-299.43\"/>\n",
       "<polygon fill=\"#3f4444\" stroke=\"#3f4444\" stroke-width=\"2\" points=\"126.88,-299.63 123.38,-289.63 119.88,-299.63 126.88,-299.63\"/>\n",
       "<text text-anchor=\"middle\" x=\"141.75\" y=\"-306.45\" font-family=\"Consolas\" font-size=\"9.00\">list[T]</text>\n",
       "</g>\n",
       "<!-- autodockgpu -->\n",
       "<g id=\"node4\" class=\"node\">\n",
       "<title>autodockgpu</title>\n",
       "<path fill=\"#666666\" fill-opacity=\"0.133333\" stroke=\"#830051\" stroke-width=\"2\" d=\"M156.5,-202.5C156.5,-202.5 90.25,-202.5 90.25,-202.5 84.25,-202.5 78.25,-196.5 78.25,-190.5 78.25,-190.5 78.25,-178.5 78.25,-178.5 78.25,-172.5 84.25,-166.5 90.25,-166.5 90.25,-166.5 156.5,-166.5 156.5,-166.5 162.5,-166.5 168.5,-172.5 168.5,-178.5 168.5,-178.5 168.5,-190.5 168.5,-190.5 168.5,-196.5 162.5,-202.5 156.5,-202.5\"/>\n",
       "<text text-anchor=\"middle\" x=\"123.38\" y=\"-180.8\" font-family=\"Consolas\" font-size=\"11.00\">autodockgpu</text>\n",
       "</g>\n",
       "<!-- gypsum&#45;&gt;autodockgpu -->\n",
       "<g id=\"edge3\" class=\"edge\">\n",
       "<title>gypsum&#45;&gt;autodockgpu</title>\n",
       "<path fill=\"none\" stroke=\"#3f4444\" stroke-width=\"2\" d=\"M123.38,-249.12C123.38,-239.5 123.38,-227.31 123.38,-216.18\"/>\n",
       "<polygon fill=\"#3f4444\" stroke=\"#3f4444\" stroke-width=\"2\" points=\"126.88,-216.38 123.38,-206.38 119.88,-216.38 126.88,-216.38\"/>\n",
       "<text text-anchor=\"middle\" x=\"181.12\" y=\"-223.2\" font-family=\"Consolas\" font-size=\"9.00\">list[IsomerCollection]</text>\n",
       "</g>\n",
       "<!-- combine -->\n",
       "<g id=\"node5\" class=\"node\">\n",
       "<title>combine</title>\n",
       "<path fill=\"#666666\" fill-opacity=\"0.133333\" stroke=\"#830051\" stroke-width=\"2\" d=\"M58,-119.25C58,-119.25 18.75,-119.25 18.75,-119.25 12.75,-119.25 6.75,-113.25 6.75,-107.25 6.75,-107.25 6.75,-95.25 6.75,-95.25 6.75,-89.25 12.75,-83.25 18.75,-83.25 18.75,-83.25 58,-83.25 58,-83.25 64,-83.25 70,-89.25 70,-95.25 70,-95.25 70,-107.25 70,-107.25 70,-113.25 64,-119.25 58,-119.25\"/>\n",
       "<text text-anchor=\"middle\" x=\"38.38\" y=\"-97.55\" font-family=\"Consolas\" font-size=\"11.00\">combine</text>\n",
       "</g>\n",
       "<!-- autodockgpu&#45;&gt;combine -->\n",
       "<g id=\"edge5\" class=\"edge\">\n",
       "<title>autodockgpu&#45;&gt;combine</title>\n",
       "<path fill=\"none\" stroke=\"#3f4444\" stroke-width=\"2\" d=\"M77.3,-176.1C61.3,-171.08 44.98,-162.65 35.38,-148.5 32.22,-143.86 31.01,-138.31 30.92,-132.7\"/>\n",
       "<polygon fill=\"#3f4444\" stroke=\"#3f4444\" stroke-width=\"2\" points=\"34.72,-133.2 32.34,-122.87 27.76,-132.43 34.72,-133.2\"/>\n",
       "<text text-anchor=\"middle\" x=\"108.88\" y=\"-139.95\" font-family=\"Consolas\" font-size=\"9.00\">ndarray[Any, dtype[float32]]</text>\n",
       "<text text-anchor=\"middle\" x=\"61.55\" y=\"-178.8\" font-family=\"Consolas\" font-size=\"9.00\">scores</text>\n",
       "</g>\n",
       "<!-- void -->\n",
       "<g id=\"node7\" class=\"node\">\n",
       "<title>void</title>\n",
       "<path fill=\"#666666\" fill-opacity=\"0.133333\" stroke=\"#830051\" stroke-width=\"2\" d=\"M223.38,-119.25C223.38,-119.25 193.38,-119.25 193.38,-119.25 187.38,-119.25 181.38,-113.25 181.38,-107.25 181.38,-107.25 181.38,-95.25 181.38,-95.25 181.38,-89.25 187.38,-83.25 193.38,-83.25 193.38,-83.25 223.38,-83.25 223.38,-83.25 229.38,-83.25 235.38,-89.25 235.38,-95.25 235.38,-95.25 235.38,-107.25 235.38,-107.25 235.38,-113.25 229.38,-119.25 223.38,-119.25\"/>\n",
       "<text text-anchor=\"middle\" x=\"208.38\" y=\"-97.55\" font-family=\"Consolas\" font-size=\"11.00\">void</text>\n",
       "</g>\n",
       "<!-- autodockgpu&#45;&gt;void -->\n",
       "<g id=\"edge4\" class=\"edge\">\n",
       "<title>autodockgpu&#45;&gt;void</title>\n",
       "<path fill=\"none\" stroke=\"#3f4444\" stroke-width=\"2\" d=\"M164.34,-165.62C172.31,-160.87 180.12,-155.16 186.38,-148.5 190.97,-143.6 194.77,-137.57 197.85,-131.49\"/>\n",
       "<polygon fill=\"#3f4444\" stroke=\"#3f4444\" stroke-width=\"2\" points=\"201.06,-132.61 201.88,-122.05 194.65,-129.79 201.06,-132.61\"/>\n",
       "<text text-anchor=\"middle\" x=\"252.12\" y=\"-139.95\" font-family=\"Consolas\" font-size=\"9.00\">list[IsomerCollection]</text>\n",
       "</g>\n",
       "<!-- logresult -->\n",
       "<g id=\"node6\" class=\"node\">\n",
       "<title>logresult</title>\n",
       "<path fill=\"#666666\" fill-opacity=\"0.133333\" stroke=\"#830051\" stroke-width=\"2\" d=\"M64.75,-36C64.75,-36 12,-36 12,-36 6,-36 0,-30 0,-24 0,-24 0,-12 0,-12 0,-6 6,0 12,0 12,0 64.75,0 64.75,0 70.75,0 76.75,-6 76.75,-12 76.75,-12 76.75,-24 76.75,-24 76.75,-30 70.75,-36 64.75,-36\"/>\n",
       "<text text-anchor=\"middle\" x=\"38.38\" y=\"-14.3\" font-family=\"Consolas\" font-size=\"11.00\">logresult</text>\n",
       "</g>\n",
       "<!-- combine&#45;&gt;logresult -->\n",
       "<g id=\"edge6\" class=\"edge\">\n",
       "<title>combine&#45;&gt;logresult</title>\n",
       "<path fill=\"none\" stroke=\"#3f4444\" stroke-width=\"2\" d=\"M38.38,-82.62C38.38,-73 38.38,-60.81 38.38,-49.68\"/>\n",
       "<polygon fill=\"#3f4444\" stroke=\"#3f4444\" stroke-width=\"2\" points=\"41.88,-49.88 38.38,-39.88 34.88,-49.88 41.88,-49.88\"/>\n",
       "<text text-anchor=\"middle\" x=\"56.75\" y=\"-56.7\" font-family=\"Consolas\" font-size=\"9.00\">list[T]</text>\n",
       "</g>\n",
       "</g>\n",
       "</svg>\n"
      ],
      "text/plain": [
       "<graphviz.graphs.Digraph at 0x7f5095f1c460>"
      ]
     },
     "execution_count": 30,
     "metadata": {},
     "output_type": "execute_result"
    }
   ],
   "source": [
    "flow.check()\n",
    "flow.visualize()"
   ]
  },
  {
   "attachments": {},
   "cell_type": "markdown",
   "metadata": {},
   "source": [
    "### Run\n",
    "Let's run it!"
   ]
  },
  {
   "cell_type": "code",
   "execution_count": 31,
   "metadata": {},
   "outputs": [
    {
     "name": "stderr",
     "output_type": "stream",
     "text": [
      "2023-09-05 10:47:01,146 | \u001b[1;34m    INFO\u001b[0m |          dock-ht | \n",
      "              ___           ___                       ___           ___\n",
      "             /\\__\\         /\\  \\          ___        /\\  \\         /\\  \\\n",
      "            /::|  |       /::\\  \\        /\\  \\       \\:\\  \\       /::\\  \\\n",
      "           /:|:|  |      /:/\\:\\  \\       \\:\\  \\       \\:\\  \\     /:/\\:\\  \\\n",
      "          /:/|:|__|__   /::\\~\\:\\  \\      /::\\__\\       \\:\\  \\   /::\\~\\:\\  \\\n",
      "         /:/ |::::\\__\\ /:/\\:\\ \\:\\__\\  __/:/\\/__/ _______\\:\\__\\ /:/\\:\\ \\:\\__\\\n",
      "         \\/__/~~/:/  / \\/__\\:\\/:/  / /\\/:/  /    \\::::::::/__/ \\:\\~\\:\\ \\/__/\n",
      "               /:/  /       \\::/  /  \\::/__/      \\:\\~~\\~~      \\:\\ \\:\\__\\\n",
      "              /:/  /        /:/  /    \\:\\__\\       \\:\\  \\        \\:\\ \\/__/\n",
      "             /:/  /        /:/  /      \\/__/        \\:\\__\\        \\:\\__\\\n",
      "             \\/__/         \\/__/                     \\/__/         \\/__/\n",
      "\n",
      "\n",
      "2023-09-05 10:47:01,148 | \u001b[1;34m    INFO\u001b[0m |          dock-ht | Starting Maize version 0.4.1 (c) AstraZeneca 2023\n",
      "2023-09-05 10:47:01,787 | \u001b[1;34m    INFO\u001b[0m |            batch | Sending batch 0/2\n",
      "2023-09-05 10:47:02,289 | \u001b[1;34m    INFO\u001b[0m |          dock-ht | Node 'loaddata' finished (1/7)\n",
      "2023-09-05 10:47:02,290 | \u001b[1;34m    INFO\u001b[0m |            batch | Sending batch 1/2\n",
      "2023-09-05 10:47:02,793 | \u001b[1;34m    INFO\u001b[0m |          dock-ht | Node 'batch' finished (2/7)\n",
      "2023-09-05 10:47:03,623 | \u001b[1;33m WARNING\u001b[0m |      autodockgpu | Docking isomer 'UPIWLIWRZMYFKW-YUMQZZPRNA-N' failed\n",
      "2023-09-05 10:47:03,627 | \u001b[1;33m WARNING\u001b[0m |      autodockgpu | Docking isomer 'UPIWLIWRZMYFKW-WHUPJOBBNA-N' failed\n",
      "2023-09-05 10:47:03,632 | \u001b[1;34m    INFO\u001b[0m |      autodockgpu | Parsed isomer 'DGRGLKZMKWPMOH-UHFFFAOYNA-N', score -4.43\n",
      "2023-09-05 10:47:04,186 | \u001b[1;34m    INFO\u001b[0m |          combine | Received batch 1/2\n",
      "2023-09-05 10:47:05,273 | \u001b[1;34m    INFO\u001b[0m |          dock-ht | Node 'gypsum' finished (3/7)\n",
      "2023-09-05 10:47:05,426 | \u001b[1;33m WARNING\u001b[0m |      autodockgpu | Docking isomer 'SNHYTHIEXHWXCQ-UHFFFAOYNA-N' failed\n",
      "2023-09-05 10:47:05,428 | \u001b[1;33m WARNING\u001b[0m |      autodockgpu | Docking isomer 'BLUAPHUUFWSBEL-UHFFFAOYNA-N' failed\n",
      "2023-09-05 10:47:05,938 | \u001b[1;34m    INFO\u001b[0m |          combine | Received batch 2/2\n",
      "2023-09-05 10:47:05,944 | \u001b[1;34m    INFO\u001b[0m |          dock-ht | Node 'logresult' finished (4/7)\n",
      "2023-09-05 10:47:05,941 | \u001b[1;34m    INFO\u001b[0m |        logresult | Received data: '[nan, -4.43, nan, nan]'\n",
      "2023-09-05 10:47:06,440 | \u001b[1;34m    INFO\u001b[0m |          dock-ht | Node 'autodockgpu' finished (5/7)\n",
      "2023-09-05 10:47:06,442 | \u001b[1;34m    INFO\u001b[0m |          dock-ht | Node 'combine' finished (6/7)\n",
      "2023-09-05 10:47:06,792 | \u001b[1;34m    INFO\u001b[0m |          dock-ht | Node 'void' finished (7/7)\n",
      "2023-09-05 10:47:07,294 | \u001b[1;34m    INFO\u001b[0m |          dock-ht | Execution completed :), total runtime: 0:00:05.570066\n",
      "\t4 nodes completed successfully\n",
      "\t3 nodes stopped due to closing ports\n",
      "\t0 nodes failed\n",
      "\t0:00:23.166020 total walltime\n",
      "\t0:00:13.990148 spent waiting for resources or other nodes\n"
     ]
    }
   ],
   "source": [
    "flow.execute()"
   ]
  },
  {
   "attachments": {},
   "cell_type": "markdown",
   "metadata": {},
   "source": [
    "# Parallel docking\n",
    "While the above example allowed us to increase our throughput, we can go even further by explicitly parallelizing our workflow. In this case, we will want to run multiple docking runs in parallel, e.g. through a job submission system such as SLURM or just on a machine with multiple GPUs.\n",
    "\n",
    "We will use the `parallel` macro as a shortcut for this purpose, it will allow us to run a node in parallel and distribute data across it."
   ]
  },
  {
   "cell_type": "code",
   "execution_count": 32,
   "metadata": {},
   "outputs": [],
   "source": [
    "from maize.utilities.macros import parallel"
   ]
  },
  {
   "attachments": {},
   "cell_type": "markdown",
   "metadata": {},
   "source": [
    "## Workflow\n",
    "We again setup our workflow as normal:"
   ]
  },
  {
   "cell_type": "code",
   "execution_count": 33,
   "metadata": {},
   "outputs": [],
   "source": [
    "flow = Workflow(name=\"dock-parallel\", level=\"info\", cleanup_temp=False)\n",
    "flow.config.update(Path(\"docking-example-config.toml\"))"
   ]
  },
  {
   "attachments": {},
   "cell_type": "markdown",
   "metadata": {},
   "source": [
    "We can now add our nodes just as in the first example, but we now use the magical `parallel` function to convert our single `AutoDockGPU` node into a *subgraph* containing multiple copies of it. Data will be distributed using a `RoundRobin` node, i.e., one item will be sent to each output at a time, cycling through all available outputs. Outputs will be connected accordingly with a `Merge` node. If more than one output or input is present, multiple `RoundRobin` or `Merge` nodes will be used. Finally, we also need to set `loop=True` here to make sure the `AutoDockGPU` node can accept multiple rounds of inputs."
   ]
  },
  {
   "cell_type": "code",
   "execution_count": 34,
   "metadata": {},
   "outputs": [],
   "source": [
    "load = flow.add(LoadData[list[str]])\n",
    "embe = flow.add(Gypsum, loop=True)\n",
    "dock = flow.add(parallel(AutoDockGPU, n_branches=2, inputs=(\"inp\",), outputs=(\"out\", \"out_scores\"), loop=True))\n",
    "save = flow.add(LogResult)\n",
    "void = flow.add(Void)"
   ]
  },
  {
   "attachments": {},
   "cell_type": "markdown",
   "metadata": {},
   "source": [
    "### Configuration\n",
    "Configuration is done just like before, the embedded molecules will then be distributed over both `AutoDockGPU` nodes."
   ]
  },
  {
   "cell_type": "code",
   "execution_count": 35,
   "metadata": {},
   "outputs": [],
   "source": [
    "load.data.set([\"Nc1ccc(ccc1N)C\", \"Nc1ccc(cc1N)C\", \"Nc1cc(F)c(cc1N)C\", \"Nc1ccc(cc1N)C(F)\"])\n",
    "embe.n_variants.set(2)\n",
    "dock.grid_file.set(grid)"
   ]
  },
  {
   "attachments": {},
   "cell_type": "markdown",
   "metadata": {},
   "source": [
    "We can again connect everything as normal, the internal connections for distribution and merging are taken care of by the `parallel` macro above."
   ]
  },
  {
   "cell_type": "code",
   "execution_count": 36,
   "metadata": {},
   "outputs": [],
   "source": [
    "flow.connect_all(\n",
    "    (load.out, embe.inp),\n",
    "    (embe.out, dock.inp),\n",
    "    (dock.out, void.inp),\n",
    "    (dock.out_scores, save.inp),\n",
    ")"
   ]
  },
  {
   "attachments": {},
   "cell_type": "markdown",
   "metadata": {},
   "source": [
    "Let's check we're good to go, and also visualize what is going on inside `parallel`!"
   ]
  },
  {
   "cell_type": "code",
   "execution_count": 37,
   "metadata": {},
   "outputs": [
    {
     "data": {
      "image/svg+xml": [
       "<?xml version=\"1.0\" encoding=\"UTF-8\" standalone=\"no\"?>\n",
       "<!DOCTYPE svg PUBLIC \"-//W3C//DTD SVG 1.1//EN\"\n",
       " \"http://www.w3.org/Graphics/SVG/1.1/DTD/svg11.dtd\">\n",
       "<!-- Generated by graphviz version 8.1.0 (20230707.2238)\n",
       " -->\n",
       "<!-- Title: dock&#45;parallel Pages: 1 -->\n",
       "<svg width=\"653pt\" height=\"480pt\"\n",
       " viewBox=\"0.00 0.00 653.00 479.75\" xmlns=\"http://www.w3.org/2000/svg\" xmlns:xlink=\"http://www.w3.org/1999/xlink\">\n",
       "<g id=\"graph0\" class=\"graph\" transform=\"scale(1 1) rotate(0) translate(4 475.75)\">\n",
       "<title>dock&#45;parallel</title>\n",
       "<polygon fill=\"none\" stroke=\"none\" points=\"-4,4 -4,-475.75 649,-475.75 649,4 -4,4\"/>\n",
       "<g id=\"clust1\" class=\"cluster\">\n",
       "<title>cluster&#45;autodockgpuparallel</title>\n",
       "<path fill=\"#666666\" fill-opacity=\"0.133333\" stroke=\"#830051\" stroke-width=\"2\" d=\"M20,-75.25C20,-75.25 625,-75.25 625,-75.25 631,-75.25 637,-81.25 637,-87.25 637,-87.25 637,-303.25 637,-303.25 637,-309.25 631,-315.25 625,-315.25 625,-315.25 20,-315.25 20,-315.25 14,-315.25 8,-309.25 8,-303.25 8,-303.25 8,-87.25 8,-87.25 8,-81.25 14,-75.25 20,-75.25\"/>\n",
       "<text text-anchor=\"middle\" x=\"322.5\" y=\"-300.8\" font-family=\"Consolas\" font-size=\"11.00\">autodockgpuparallel</text>\n",
       "</g>\n",
       "<!-- loaddata -->\n",
       "<g id=\"node1\" class=\"node\">\n",
       "<title>loaddata</title>\n",
       "<path fill=\"#666666\" fill-opacity=\"0.133333\" stroke=\"#830051\" stroke-width=\"2\" d=\"M248,-471.75C248,-471.75 202,-471.75 202,-471.75 196,-471.75 190,-465.75 190,-459.75 190,-459.75 190,-447.75 190,-447.75 190,-441.75 196,-435.75 202,-435.75 202,-435.75 248,-435.75 248,-435.75 254,-435.75 260,-441.75 260,-447.75 260,-447.75 260,-459.75 260,-459.75 260,-465.75 254,-471.75 248,-471.75\"/>\n",
       "<text text-anchor=\"middle\" x=\"225\" y=\"-450.05\" font-family=\"Consolas\" font-size=\"11.00\">loaddata</text>\n",
       "</g>\n",
       "<!-- gypsum -->\n",
       "<g id=\"node2\" class=\"node\">\n",
       "<title>gypsum</title>\n",
       "<path fill=\"#666666\" fill-opacity=\"0.133333\" stroke=\"#830051\" stroke-width=\"2\" d=\"M241.25,-388.5C241.25,-388.5 208.75,-388.5 208.75,-388.5 202.75,-388.5 196.75,-382.5 196.75,-376.5 196.75,-376.5 196.75,-364.5 196.75,-364.5 196.75,-358.5 202.75,-352.5 208.75,-352.5 208.75,-352.5 241.25,-352.5 241.25,-352.5 247.25,-352.5 253.25,-358.5 253.25,-364.5 253.25,-364.5 253.25,-376.5 253.25,-376.5 253.25,-382.5 247.25,-388.5 241.25,-388.5\"/>\n",
       "<text text-anchor=\"middle\" x=\"225\" y=\"-366.8\" font-family=\"Consolas\" font-size=\"11.00\">gypsum</text>\n",
       "</g>\n",
       "<!-- loaddata&#45;&gt;gypsum -->\n",
       "<g id=\"edge7\" class=\"edge\">\n",
       "<title>loaddata&#45;&gt;gypsum</title>\n",
       "<path fill=\"none\" stroke=\"#3f4444\" stroke-width=\"2\" d=\"M225,-435.12C225,-425.5 225,-413.31 225,-402.18\"/>\n",
       "<polygon fill=\"#3f4444\" stroke=\"#3f4444\" stroke-width=\"2\" points=\"228.5,-402.38 225,-392.38 221.5,-402.38 228.5,-402.38\"/>\n",
       "<text text-anchor=\"middle\" x=\"248.62\" y=\"-409.2\" font-family=\"Consolas\" font-size=\"9.00\">list[str]</text>\n",
       "</g>\n",
       "<!-- autodockgpuparallel&#45;sow&#45;inp -->\n",
       "<g id=\"node3\" class=\"node\">\n",
       "<title>autodockgpuparallel&#45;sow&#45;inp</title>\n",
       "<path fill=\"#666666\" fill-opacity=\"0.133333\" stroke=\"#003865\" stroke-width=\"2\" d=\"M244.62,-285.75C244.62,-285.75 205.38,-285.75 205.38,-285.75 199.38,-285.75 193.38,-279.75 193.38,-273.75 193.38,-273.75 193.38,-261.75 193.38,-261.75 193.38,-255.75 199.38,-249.75 205.38,-249.75 205.38,-249.75 244.62,-249.75 244.62,-249.75 250.62,-249.75 256.62,-255.75 256.62,-261.75 256.62,-261.75 256.62,-273.75 256.62,-273.75 256.62,-279.75 250.62,-285.75 244.62,-285.75\"/>\n",
       "<text text-anchor=\"middle\" x=\"225\" y=\"-264.05\" font-family=\"Consolas\" font-size=\"11.00\">sow&#45;inp</text>\n",
       "</g>\n",
       "<!-- gypsum&#45;&gt;autodockgpuparallel&#45;sow&#45;inp -->\n",
       "<g id=\"edge8\" class=\"edge\">\n",
       "<title>gypsum&#45;&gt;autodockgpuparallel&#45;sow&#45;inp</title>\n",
       "<path fill=\"none\" stroke=\"#3f4444\" stroke-width=\"2\" d=\"M225,-351.95C225,-337.45 225,-316.52 225,-299.28\"/>\n",
       "<polygon fill=\"#3f4444\" stroke=\"#3f4444\" stroke-width=\"2\" points=\"228.5,-299.44 225,-289.44 221.5,-299.44 228.5,-299.44\"/>\n",
       "<text text-anchor=\"middle\" x=\"282.75\" y=\"-325.95\" font-family=\"Consolas\" font-size=\"9.00\">list[IsomerCollection]</text>\n",
       "</g>\n",
       "<!-- autodockgpuparallel&#45;AutoDockGPU&#45;0 -->\n",
       "<g id=\"node4\" class=\"node\">\n",
       "<title>autodockgpuparallel&#45;AutoDockGPU&#45;0</title>\n",
       "<path fill=\"#666666\" fill-opacity=\"0.133333\" stroke=\"#003865\" stroke-width=\"2\" d=\"M212.88,-202.5C212.88,-202.5 133.12,-202.5 133.12,-202.5 127.12,-202.5 121.12,-196.5 121.12,-190.5 121.12,-190.5 121.12,-178.5 121.12,-178.5 121.12,-172.5 127.12,-166.5 133.12,-166.5 133.12,-166.5 212.88,-166.5 212.88,-166.5 218.88,-166.5 224.88,-172.5 224.88,-178.5 224.88,-178.5 224.88,-190.5 224.88,-190.5 224.88,-196.5 218.88,-202.5 212.88,-202.5\"/>\n",
       "<text text-anchor=\"middle\" x=\"173\" y=\"-180.8\" font-family=\"Consolas\" font-size=\"11.00\">AutoDockGPU&#45;0</text>\n",
       "</g>\n",
       "<!-- autodockgpuparallel&#45;sow&#45;inp&#45;&gt;autodockgpuparallel&#45;AutoDockGPU&#45;0 -->\n",
       "<g id=\"edge1\" class=\"edge\">\n",
       "<title>autodockgpuparallel&#45;sow&#45;inp&#45;&gt;autodockgpuparallel&#45;AutoDockGPU&#45;0</title>\n",
       "<path fill=\"none\" stroke=\"#3f4444\" stroke-width=\"2\" d=\"M213.72,-249.12C207.15,-238.86 198.72,-225.69 191.24,-213.99\"/>\n",
       "<polygon fill=\"#3f4444\" stroke=\"#3f4444\" stroke-width=\"2\" points=\"193.78,-211.91 185.44,-205.38 187.88,-215.69 193.78,-211.91\"/>\n",
       "<text text-anchor=\"middle\" x=\"209.88\" y=\"-223.2\" font-family=\"Consolas\" font-size=\"9.00\">Any</text>\n",
       "</g>\n",
       "<!-- autodockgpuparallel&#45;AutoDockGPU&#45;1 -->\n",
       "<g id=\"node5\" class=\"node\">\n",
       "<title>autodockgpuparallel&#45;AutoDockGPU&#45;1</title>\n",
       "<path fill=\"#666666\" fill-opacity=\"0.133333\" stroke=\"#003865\" stroke-width=\"2\" d=\"M382.88,-202.5C382.88,-202.5 303.12,-202.5 303.12,-202.5 297.12,-202.5 291.12,-196.5 291.12,-190.5 291.12,-190.5 291.12,-178.5 291.12,-178.5 291.12,-172.5 297.12,-166.5 303.12,-166.5 303.12,-166.5 382.88,-166.5 382.88,-166.5 388.88,-166.5 394.88,-172.5 394.88,-178.5 394.88,-178.5 394.88,-190.5 394.88,-190.5 394.88,-196.5 388.88,-202.5 382.88,-202.5\"/>\n",
       "<text text-anchor=\"middle\" x=\"343\" y=\"-180.8\" font-family=\"Consolas\" font-size=\"11.00\">AutoDockGPU&#45;1</text>\n",
       "</g>\n",
       "<!-- autodockgpuparallel&#45;sow&#45;inp&#45;&gt;autodockgpuparallel&#45;AutoDockGPU&#45;1 -->\n",
       "<g id=\"edge4\" class=\"edge\">\n",
       "<title>autodockgpuparallel&#45;sow&#45;inp&#45;&gt;autodockgpuparallel&#45;AutoDockGPU&#45;1</title>\n",
       "<path fill=\"none\" stroke=\"#3f4444\" stroke-width=\"2\" d=\"M250.9,-248.92C267.27,-237.65 288.66,-222.92 306.71,-210.49\"/>\n",
       "<polygon fill=\"#3f4444\" stroke=\"#3f4444\" stroke-width=\"2\" points=\"308.91,-212.84 315.16,-204.29 304.94,-207.08 308.91,-212.84\"/>\n",
       "<text text-anchor=\"middle\" x=\"298.88\" y=\"-223.2\" font-family=\"Consolas\" font-size=\"9.00\">Any</text>\n",
       "</g>\n",
       "<!-- autodockgpuparallel&#45;reap&#45;out -->\n",
       "<g id=\"node6\" class=\"node\">\n",
       "<title>autodockgpuparallel&#45;reap&#45;out</title>\n",
       "<path fill=\"#666666\" fill-opacity=\"0.133333\" stroke=\"#003865\" stroke-width=\"2\" d=\"M222,-119.25C222,-119.25 176,-119.25 176,-119.25 170,-119.25 164,-113.25 164,-107.25 164,-107.25 164,-95.25 164,-95.25 164,-89.25 170,-83.25 176,-83.25 176,-83.25 222,-83.25 222,-83.25 228,-83.25 234,-89.25 234,-95.25 234,-95.25 234,-107.25 234,-107.25 234,-113.25 228,-119.25 222,-119.25\"/>\n",
       "<text text-anchor=\"middle\" x=\"199\" y=\"-97.55\" font-family=\"Consolas\" font-size=\"11.00\">reap&#45;out</text>\n",
       "</g>\n",
       "<!-- autodockgpuparallel&#45;AutoDockGPU&#45;0&#45;&gt;autodockgpuparallel&#45;reap&#45;out -->\n",
       "<g id=\"edge2\" class=\"edge\">\n",
       "<title>autodockgpuparallel&#45;AutoDockGPU&#45;0&#45;&gt;autodockgpuparallel&#45;reap&#45;out</title>\n",
       "<path fill=\"none\" stroke=\"#3f4444\" stroke-width=\"2\" d=\"M120.17,-182.18C71.34,-179.01 9.93,-168.88 35.5,-137.25 49.77,-119.61 107.58,-110.46 150.43,-106.01\"/>\n",
       "<polygon fill=\"#3f4444\" stroke=\"#3f4444\" stroke-width=\"2\" points=\"150.57,-109.22 160.19,-104.78 149.9,-102.26 150.57,-109.22\"/>\n",
       "<text text-anchor=\"middle\" x=\"93.75\" y=\"-139.95\" font-family=\"Consolas\" font-size=\"9.00\">list[IsomerCollection]</text>\n",
       "</g>\n",
       "<!-- autodockgpuparallel&#45;reap&#45;out_scores -->\n",
       "<g id=\"node7\" class=\"node\">\n",
       "<title>autodockgpuparallel&#45;reap&#45;out_scores</title>\n",
       "<path fill=\"#666666\" fill-opacity=\"0.133333\" stroke=\"#003865\" stroke-width=\"2\" d=\"M362.62,-119.25C362.62,-119.25 269.38,-119.25 269.38,-119.25 263.38,-119.25 257.38,-113.25 257.38,-107.25 257.38,-107.25 257.38,-95.25 257.38,-95.25 257.38,-89.25 263.38,-83.25 269.38,-83.25 269.38,-83.25 362.62,-83.25 362.62,-83.25 368.62,-83.25 374.62,-89.25 374.62,-95.25 374.62,-95.25 374.62,-107.25 374.62,-107.25 374.62,-113.25 368.62,-119.25 362.62,-119.25\"/>\n",
       "<text text-anchor=\"middle\" x=\"316\" y=\"-97.55\" font-family=\"Consolas\" font-size=\"11.00\">reap&#45;out_scores</text>\n",
       "</g>\n",
       "<!-- autodockgpuparallel&#45;AutoDockGPU&#45;0&#45;&gt;autodockgpuparallel&#45;reap&#45;out_scores -->\n",
       "<g id=\"edge3\" class=\"edge\">\n",
       "<title>autodockgpuparallel&#45;AutoDockGPU&#45;0&#45;&gt;autodockgpuparallel&#45;reap&#45;out_scores</title>\n",
       "<path fill=\"none\" stroke=\"#3f4444\" stroke-width=\"2\" d=\"M168.62,-165.94C167.33,-156.48 167.67,-145.15 174,-137.25 175.25,-135.69 209.74,-127.17 244.41,-118.93\"/>\n",
       "<polygon fill=\"#3f4444\" stroke=\"#3f4444\" stroke-width=\"2\" points=\"245.7,-121.75 254.63,-116.04 244.09,-114.93 245.7,-121.75\"/>\n",
       "<text text-anchor=\"middle\" x=\"247.5\" y=\"-139.95\" font-family=\"Consolas\" font-size=\"9.00\">ndarray[Any, dtype[float32]]</text>\n",
       "<text text-anchor=\"middle\" x=\"152.87\" y=\"-157.39\" font-family=\"Consolas\" font-size=\"9.00\">scores</text>\n",
       "</g>\n",
       "<!-- autodockgpuparallel&#45;AutoDockGPU&#45;1&#45;&gt;autodockgpuparallel&#45;reap&#45;out -->\n",
       "<g id=\"edge5\" class=\"edge\">\n",
       "<title>autodockgpuparallel&#45;AutoDockGPU&#45;1&#45;&gt;autodockgpuparallel&#45;reap&#45;out</title>\n",
       "<path fill=\"none\" stroke=\"#3f4444\" stroke-width=\"2\" d=\"M338.61,-165.77C335.32,-156.01 329.82,-144.44 321,-137.25 295.11,-116.13 280.04,-128.74 248,-119.25 247.6,-119.13 247.19,-119.01 246.78,-118.89\"/>\n",
       "<polygon fill=\"#3f4444\" stroke=\"#3f4444\" stroke-width=\"2\" points=\"247.33,-114.76 236.74,-115.07 245.21,-121.43 247.33,-114.76\"/>\n",
       "<text text-anchor=\"middle\" x=\"387.75\" y=\"-139.95\" font-family=\"Consolas\" font-size=\"9.00\">list[IsomerCollection]</text>\n",
       "</g>\n",
       "<!-- autodockgpuparallel&#45;AutoDockGPU&#45;1&#45;&gt;autodockgpuparallel&#45;reap&#45;out_scores -->\n",
       "<g id=\"edge6\" class=\"edge\">\n",
       "<title>autodockgpuparallel&#45;AutoDockGPU&#45;1&#45;&gt;autodockgpuparallel&#45;reap&#45;out_scores</title>\n",
       "<path fill=\"none\" stroke=\"#3f4444\" stroke-width=\"2\" d=\"M395.79,-179.68C435.72,-174.69 480.45,-163.27 460,-137.25 450.6,-125.29 419.18,-116.92 388.07,-111.36\"/>\n",
       "<polygon fill=\"#3f4444\" stroke=\"#3f4444\" stroke-width=\"2\" points=\"387.74,-107.42 377.29,-109.23 386.58,-114.33 387.74,-107.42\"/>\n",
       "<text text-anchor=\"middle\" x=\"537.5\" y=\"-139.95\" font-family=\"Consolas\" font-size=\"9.00\">ndarray[Any, dtype[float32]]</text>\n",
       "<text text-anchor=\"middle\" x=\"411.54\" y=\"-182.38\" font-family=\"Consolas\" font-size=\"9.00\">scores</text>\n",
       "</g>\n",
       "<!-- void -->\n",
       "<g id=\"node9\" class=\"node\">\n",
       "<title>void</title>\n",
       "<path fill=\"#666666\" fill-opacity=\"0.133333\" stroke=\"#830051\" stroke-width=\"2\" d=\"M214,-36C214,-36 184,-36 184,-36 178,-36 172,-30 172,-24 172,-24 172,-12 172,-12 172,-6 178,0 184,0 184,0 214,0 214,0 220,0 226,-6 226,-12 226,-12 226,-24 226,-24 226,-30 220,-36 214,-36\"/>\n",
       "<text text-anchor=\"middle\" x=\"199\" y=\"-14.3\" font-family=\"Consolas\" font-size=\"11.00\">void</text>\n",
       "</g>\n",
       "<!-- autodockgpuparallel&#45;reap&#45;out&#45;&gt;void -->\n",
       "<g id=\"edge9\" class=\"edge\">\n",
       "<title>autodockgpuparallel&#45;reap&#45;out&#45;&gt;void</title>\n",
       "<path fill=\"none\" stroke=\"#3f4444\" stroke-width=\"2\" d=\"M199,-82.62C199,-73 199,-60.81 199,-49.68\"/>\n",
       "<polygon fill=\"#3f4444\" stroke=\"#3f4444\" stroke-width=\"2\" points=\"202.5,-49.88 199,-39.88 195.5,-49.88 202.5,-49.88\"/>\n",
       "<text text-anchor=\"middle\" x=\"206.88\" y=\"-56.7\" font-family=\"Consolas\" font-size=\"9.00\">Any</text>\n",
       "</g>\n",
       "<!-- logresult -->\n",
       "<g id=\"node8\" class=\"node\">\n",
       "<title>logresult</title>\n",
       "<path fill=\"#666666\" fill-opacity=\"0.133333\" stroke=\"#830051\" stroke-width=\"2\" d=\"M342.38,-36C342.38,-36 289.62,-36 289.62,-36 283.62,-36 277.62,-30 277.62,-24 277.62,-24 277.62,-12 277.62,-12 277.62,-6 283.62,0 289.62,0 289.62,0 342.38,0 342.38,0 348.38,0 354.38,-6 354.38,-12 354.38,-12 354.38,-24 354.38,-24 354.38,-30 348.38,-36 342.38,-36\"/>\n",
       "<text text-anchor=\"middle\" x=\"316\" y=\"-14.3\" font-family=\"Consolas\" font-size=\"11.00\">logresult</text>\n",
       "</g>\n",
       "<!-- autodockgpuparallel&#45;reap&#45;out_scores&#45;&gt;logresult -->\n",
       "<g id=\"edge10\" class=\"edge\">\n",
       "<title>autodockgpuparallel&#45;reap&#45;out_scores&#45;&gt;logresult</title>\n",
       "<path fill=\"none\" stroke=\"#3f4444\" stroke-width=\"2\" d=\"M316,-82.62C316,-73 316,-60.81 316,-49.68\"/>\n",
       "<polygon fill=\"#3f4444\" stroke=\"#3f4444\" stroke-width=\"2\" points=\"319.5,-49.88 316,-39.88 312.5,-49.88 319.5,-49.88\"/>\n",
       "<text text-anchor=\"middle\" x=\"323.88\" y=\"-56.7\" font-family=\"Consolas\" font-size=\"9.00\">Any</text>\n",
       "</g>\n",
       "</g>\n",
       "</svg>\n"
      ],
      "text/plain": [
       "<graphviz.graphs.Digraph at 0x7f5095ead0c0>"
      ]
     },
     "execution_count": 37,
     "metadata": {},
     "output_type": "execute_result"
    }
   ],
   "source": [
    "flow.check()\n",
    "flow.visualize()"
   ]
  },
  {
   "attachments": {},
   "cell_type": "markdown",
   "metadata": {},
   "source": [
    "Let's go! Because my system only has a single GPU we won't actually see any speed up though (execution is blocked if required resources are not available)."
   ]
  },
  {
   "cell_type": "code",
   "execution_count": 38,
   "metadata": {},
   "outputs": [
    {
     "name": "stderr",
     "output_type": "stream",
     "text": [
      "2023-09-05 10:47:08,824 | \u001b[1;34m    INFO\u001b[0m |    dock-parallel | \n",
      "              ___           ___                       ___           ___\n",
      "             /\\__\\         /\\  \\          ___        /\\  \\         /\\  \\\n",
      "            /::|  |       /::\\  \\        /\\  \\       \\:\\  \\       /::\\  \\\n",
      "           /:|:|  |      /:/\\:\\  \\       \\:\\  \\       \\:\\  \\     /:/\\:\\  \\\n",
      "          /:/|:|__|__   /::\\~\\:\\  \\      /::\\__\\       \\:\\  \\   /::\\~\\:\\  \\\n",
      "         /:/ |::::\\__\\ /:/\\:\\ \\:\\__\\  __/:/\\/__/ _______\\:\\__\\ /:/\\:\\ \\:\\__\\\n",
      "         \\/__/~~/:/  / \\/__\\:\\/:/  / /\\/:/  /    \\::::::::/__/ \\:\\~\\:\\ \\/__/\n",
      "               /:/  /       \\::/  /  \\::/__/      \\:\\~~\\~~      \\:\\ \\:\\__\\\n",
      "              /:/  /        /:/  /    \\:\\__\\       \\:\\  \\        \\:\\ \\/__/\n",
      "             /:/  /        /:/  /      \\/__/        \\:\\__\\        \\:\\__\\\n",
      "             \\/__/         \\/__/                     \\/__/         \\/__/\n",
      "\n",
      "\n",
      "2023-09-05 10:47:08,826 | \u001b[1;34m    INFO\u001b[0m |    dock-parallel | Starting Maize version 0.4.1 (c) AstraZeneca 2023\n",
      "2023-09-05 10:47:09,829 | \u001b[1;34m    INFO\u001b[0m |    dock-parallel | Node 'loaddata' finished (1/9)\n",
      "2023-09-05 10:47:11,065 | \u001b[1;34m    INFO\u001b[0m |    dock-parallel | Node 'gypsum' finished (2/9)\n",
      "2023-09-05 10:47:11,076 | \u001b[1;34m    INFO\u001b[0m |    dock-parallel | Node 'sow-inp' finished (3/9)\n",
      "2023-09-05 10:47:11,208 | \u001b[1;34m    INFO\u001b[0m |    dock-parallel | Node 'AutoDockGPU-1' finished (4/9)\n",
      "2023-09-05 10:47:11,834 | \u001b[1;34m    INFO\u001b[0m |    AutoDockGPU-0 | Parsed isomer 'UPIWLIWRZMYFKW-ITHFDTRPNA-P', score -3.36\n",
      "2023-09-05 10:47:11,875 | \u001b[1;34m    INFO\u001b[0m |    AutoDockGPU-0 | Parsed isomer 'UPIWLIWRZMYFKW-NNELSRSVNA-P', score -2.84\n",
      "2023-09-05 10:47:11,900 | \u001b[1;34m    INFO\u001b[0m |    AutoDockGPU-0 | Parsed isomer 'DGRGLKZMKWPMOH-UHFFFAOYNA-N', score -4.41\n",
      "2023-09-05 10:47:11,920 | \u001b[1;33m WARNING\u001b[0m |    AutoDockGPU-0 | Docking isomer 'SNHYTHIEXHWXCQ-UHFFFAOYNA-N' failed\n",
      "2023-09-05 10:47:11,921 | \u001b[1;33m WARNING\u001b[0m |    AutoDockGPU-0 | Docking isomer 'BLUAPHUUFWSBEL-UHFFFAOYNA-N' failed\n",
      "2023-09-05 10:47:12,962 | \u001b[1;34m    INFO\u001b[0m |    dock-parallel | Node 'AutoDockGPU-0' finished (5/9)\n",
      "2023-09-05 10:47:13,428 | \u001b[1;34m    INFO\u001b[0m |    dock-parallel | Node 'logresult' finished (6/9)\n",
      "2023-09-05 10:47:13,423 | \u001b[1;34m    INFO\u001b[0m |        logresult | Received data: '[-3.36 -4.41   nan   nan]'\n",
      "2023-09-05 10:47:13,784 | \u001b[1;34m    INFO\u001b[0m |    dock-parallel | Node 'reap-out' finished (7/9)\n",
      "2023-09-05 10:47:13,924 | \u001b[1;34m    INFO\u001b[0m |    dock-parallel | Node 'reap-out_scores' finished (8/9)\n",
      "2023-09-05 10:47:14,084 | \u001b[1;34m    INFO\u001b[0m |    dock-parallel | Node 'void' finished (9/9)\n",
      "2023-09-05 10:47:14,587 | \u001b[1;34m    INFO\u001b[0m |    dock-parallel | Execution completed :), total runtime: 0:00:05.175187\n",
      "\t2 nodes completed successfully\n",
      "\t7 nodes stopped due to closing ports\n",
      "\t0 nodes failed\n",
      "\t0:00:27.012650 total walltime\n",
      "\t0:00:10.281256 spent waiting for resources or other nodes\n"
     ]
    }
   ],
   "source": [
    "flow.execute()"
   ]
  }
 ],
 "metadata": {
  "kernelspec": {
   "display_name": "maize-dev",
   "language": "python",
   "name": "python3"
  },
  "language_info": {
   "codemirror_mode": {
    "name": "ipython",
    "version": 3
   },
   "file_extension": ".py",
   "mimetype": "text/x-python",
   "name": "python",
   "nbconvert_exporter": "python",
   "pygments_lexer": "ipython3",
   "version": "3.10.12"
  },
  "vscode": {
   "interpreter": {
    "hash": "c7933071e4ac613f28c0e392a979b4cad638eb3c8e54dced70026f3f90605e4d"
   }
  }
 },
 "nbformat": 4,
 "nbformat_minor": 2
}
